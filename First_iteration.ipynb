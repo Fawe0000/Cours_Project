{
 "cells": [
  {
   "cell_type": "markdown",
   "metadata": {},
   "source": [
    "# Подключение библиотек и загрузка данных"
   ]
  },
  {
   "cell_type": "code",
   "execution_count": 1,
   "metadata": {},
   "outputs": [],
   "source": [
    "import numpy as np\n",
    "import pandas as pd\n",
    "import random\n",
    "\n",
    "from sklearn.model_selection import cross_val_score, train_test_split\n",
    "from sklearn.ensemble import RandomForestRegressor\n",
    "from sklearn.metrics import r2_score\n",
    "from sklearn.ensemble import RandomForestClassifier\n",
    "from sklearn.model_selection import KFold\n",
    "\n",
    "import matplotlib\n",
    "import matplotlib.pyplot as plt\n",
    "import seaborn as sns\n",
    "%matplotlib inline"
   ]
  },
  {
   "cell_type": "code",
   "execution_count": 2,
   "metadata": {},
   "outputs": [],
   "source": [
    "import warnings\n",
    "warnings.filterwarnings('ignore')\n",
    "sns.set(style='whitegrid')\n",
    "sns.set_context(\"paper\", font_scale=1.5)  \n",
    "pd.options.display.float_format = '{:,.2f}'.format\n",
    "pd.set_option('display.max_rows', 50)"
   ]
  },
  {
   "cell_type": "code",
   "execution_count": 3,
   "metadata": {},
   "outputs": [
    {
     "data": {
      "text/html": [
       "<div>\n",
       "<style scoped>\n",
       "    .dataframe tbody tr th:only-of-type {\n",
       "        vertical-align: middle;\n",
       "    }\n",
       "\n",
       "    .dataframe tbody tr th {\n",
       "        vertical-align: top;\n",
       "    }\n",
       "\n",
       "    .dataframe thead th {\n",
       "        text-align: right;\n",
       "    }\n",
       "</style>\n",
       "<table border=\"1\" class=\"dataframe\">\n",
       "  <thead>\n",
       "    <tr style=\"text-align: right;\">\n",
       "      <th></th>\n",
       "      <th>DistrictId</th>\n",
       "      <th>Rooms</th>\n",
       "      <th>Square</th>\n",
       "      <th>LifeSquare</th>\n",
       "      <th>KitchenSquare</th>\n",
       "      <th>Floor</th>\n",
       "      <th>HouseFloor</th>\n",
       "      <th>HouseYear</th>\n",
       "      <th>Ecology_1</th>\n",
       "      <th>Ecology_2</th>\n",
       "      <th>Ecology_3</th>\n",
       "      <th>Social_1</th>\n",
       "      <th>Social_2</th>\n",
       "      <th>Social_3</th>\n",
       "      <th>Healthcare_1</th>\n",
       "      <th>Helthcare_2</th>\n",
       "      <th>Shops_1</th>\n",
       "      <th>Shops_2</th>\n",
       "      <th>Price</th>\n",
       "    </tr>\n",
       "    <tr>\n",
       "      <th>Id</th>\n",
       "      <th></th>\n",
       "      <th></th>\n",
       "      <th></th>\n",
       "      <th></th>\n",
       "      <th></th>\n",
       "      <th></th>\n",
       "      <th></th>\n",
       "      <th></th>\n",
       "      <th></th>\n",
       "      <th></th>\n",
       "      <th></th>\n",
       "      <th></th>\n",
       "      <th></th>\n",
       "      <th></th>\n",
       "      <th></th>\n",
       "      <th></th>\n",
       "      <th></th>\n",
       "      <th></th>\n",
       "      <th></th>\n",
       "    </tr>\n",
       "  </thead>\n",
       "  <tbody>\n",
       "    <tr>\n",
       "      <th>14038</th>\n",
       "      <td>35</td>\n",
       "      <td>2.00</td>\n",
       "      <td>47.98</td>\n",
       "      <td>29.44</td>\n",
       "      <td>6.00</td>\n",
       "      <td>7</td>\n",
       "      <td>9.00</td>\n",
       "      <td>1969</td>\n",
       "      <td>0.09</td>\n",
       "      <td>B</td>\n",
       "      <td>B</td>\n",
       "      <td>33</td>\n",
       "      <td>7976</td>\n",
       "      <td>5</td>\n",
       "      <td>nan</td>\n",
       "      <td>0</td>\n",
       "      <td>11</td>\n",
       "      <td>B</td>\n",
       "      <td>184,966.93</td>\n",
       "    </tr>\n",
       "    <tr>\n",
       "      <th>15053</th>\n",
       "      <td>41</td>\n",
       "      <td>3.00</td>\n",
       "      <td>65.68</td>\n",
       "      <td>40.05</td>\n",
       "      <td>8.00</td>\n",
       "      <td>7</td>\n",
       "      <td>9.00</td>\n",
       "      <td>1978</td>\n",
       "      <td>0.00</td>\n",
       "      <td>B</td>\n",
       "      <td>B</td>\n",
       "      <td>46</td>\n",
       "      <td>10309</td>\n",
       "      <td>1</td>\n",
       "      <td>240.00</td>\n",
       "      <td>1</td>\n",
       "      <td>16</td>\n",
       "      <td>B</td>\n",
       "      <td>300,009.45</td>\n",
       "    </tr>\n",
       "    <tr>\n",
       "      <th>4765</th>\n",
       "      <td>53</td>\n",
       "      <td>2.00</td>\n",
       "      <td>44.95</td>\n",
       "      <td>29.20</td>\n",
       "      <td>0.00</td>\n",
       "      <td>8</td>\n",
       "      <td>12.00</td>\n",
       "      <td>1968</td>\n",
       "      <td>0.05</td>\n",
       "      <td>B</td>\n",
       "      <td>B</td>\n",
       "      <td>34</td>\n",
       "      <td>7759</td>\n",
       "      <td>0</td>\n",
       "      <td>229.00</td>\n",
       "      <td>1</td>\n",
       "      <td>3</td>\n",
       "      <td>B</td>\n",
       "      <td>220,925.91</td>\n",
       "    </tr>\n",
       "    <tr>\n",
       "      <th>5809</th>\n",
       "      <td>58</td>\n",
       "      <td>2.00</td>\n",
       "      <td>53.35</td>\n",
       "      <td>52.73</td>\n",
       "      <td>9.00</td>\n",
       "      <td>8</td>\n",
       "      <td>17.00</td>\n",
       "      <td>1977</td>\n",
       "      <td>0.44</td>\n",
       "      <td>B</td>\n",
       "      <td>B</td>\n",
       "      <td>23</td>\n",
       "      <td>5735</td>\n",
       "      <td>3</td>\n",
       "      <td>1,084.00</td>\n",
       "      <td>0</td>\n",
       "      <td>5</td>\n",
       "      <td>B</td>\n",
       "      <td>175,616.23</td>\n",
       "    </tr>\n",
       "    <tr>\n",
       "      <th>10783</th>\n",
       "      <td>99</td>\n",
       "      <td>1.00</td>\n",
       "      <td>39.65</td>\n",
       "      <td>23.78</td>\n",
       "      <td>7.00</td>\n",
       "      <td>11</td>\n",
       "      <td>12.00</td>\n",
       "      <td>1976</td>\n",
       "      <td>0.01</td>\n",
       "      <td>B</td>\n",
       "      <td>B</td>\n",
       "      <td>35</td>\n",
       "      <td>5776</td>\n",
       "      <td>1</td>\n",
       "      <td>2,078.00</td>\n",
       "      <td>2</td>\n",
       "      <td>4</td>\n",
       "      <td>B</td>\n",
       "      <td>150,226.53</td>\n",
       "    </tr>\n",
       "  </tbody>\n",
       "</table>\n",
       "</div>"
      ],
      "text/plain": [
       "       DistrictId  Rooms  Square  LifeSquare  KitchenSquare  Floor  \\\n",
       "Id                                                                   \n",
       "14038          35   2.00   47.98       29.44           6.00      7   \n",
       "15053          41   3.00   65.68       40.05           8.00      7   \n",
       "4765           53   2.00   44.95       29.20           0.00      8   \n",
       "5809           58   2.00   53.35       52.73           9.00      8   \n",
       "10783          99   1.00   39.65       23.78           7.00     11   \n",
       "\n",
       "       HouseFloor  HouseYear  Ecology_1 Ecology_2 Ecology_3  Social_1  \\\n",
       "Id                                                                      \n",
       "14038        9.00       1969       0.09         B         B        33   \n",
       "15053        9.00       1978       0.00         B         B        46   \n",
       "4765        12.00       1968       0.05         B         B        34   \n",
       "5809        17.00       1977       0.44         B         B        23   \n",
       "10783       12.00       1976       0.01         B         B        35   \n",
       "\n",
       "       Social_2  Social_3  Healthcare_1  Helthcare_2  Shops_1 Shops_2  \\\n",
       "Id                                                                      \n",
       "14038      7976         5           nan            0       11       B   \n",
       "15053     10309         1        240.00            1       16       B   \n",
       "4765       7759         0        229.00            1        3       B   \n",
       "5809       5735         3      1,084.00            0        5       B   \n",
       "10783      5776         1      2,078.00            2        4       B   \n",
       "\n",
       "           Price  \n",
       "Id                \n",
       "14038 184,966.93  \n",
       "15053 300,009.45  \n",
       "4765  220,925.91  \n",
       "5809  175,616.23  \n",
       "10783 150,226.53  "
      ]
     },
     "execution_count": 3,
     "metadata": {},
     "output_type": "execute_result"
    }
   ],
   "source": [
    "df=pd.read_csv('train.csv', index_col='Id')\n",
    "df.head()"
   ]
  },
  {
   "cell_type": "code",
   "execution_count": 4,
   "metadata": {},
   "outputs": [
    {
     "data": {
      "text/html": [
       "<div>\n",
       "<style scoped>\n",
       "    .dataframe tbody tr th:only-of-type {\n",
       "        vertical-align: middle;\n",
       "    }\n",
       "\n",
       "    .dataframe tbody tr th {\n",
       "        vertical-align: top;\n",
       "    }\n",
       "\n",
       "    .dataframe thead th {\n",
       "        text-align: right;\n",
       "    }\n",
       "</style>\n",
       "<table border=\"1\" class=\"dataframe\">\n",
       "  <thead>\n",
       "    <tr style=\"text-align: right;\">\n",
       "      <th></th>\n",
       "      <th>DistrictId</th>\n",
       "      <th>Rooms</th>\n",
       "      <th>Square</th>\n",
       "      <th>LifeSquare</th>\n",
       "      <th>KitchenSquare</th>\n",
       "      <th>Floor</th>\n",
       "      <th>HouseFloor</th>\n",
       "      <th>HouseYear</th>\n",
       "      <th>Ecology_1</th>\n",
       "      <th>Ecology_2</th>\n",
       "      <th>Ecology_3</th>\n",
       "      <th>Social_1</th>\n",
       "      <th>Social_2</th>\n",
       "      <th>Social_3</th>\n",
       "      <th>Healthcare_1</th>\n",
       "      <th>Helthcare_2</th>\n",
       "      <th>Shops_1</th>\n",
       "      <th>Shops_2</th>\n",
       "    </tr>\n",
       "    <tr>\n",
       "      <th>Id</th>\n",
       "      <th></th>\n",
       "      <th></th>\n",
       "      <th></th>\n",
       "      <th></th>\n",
       "      <th></th>\n",
       "      <th></th>\n",
       "      <th></th>\n",
       "      <th></th>\n",
       "      <th></th>\n",
       "      <th></th>\n",
       "      <th></th>\n",
       "      <th></th>\n",
       "      <th></th>\n",
       "      <th></th>\n",
       "      <th></th>\n",
       "      <th></th>\n",
       "      <th></th>\n",
       "      <th></th>\n",
       "    </tr>\n",
       "  </thead>\n",
       "  <tbody>\n",
       "    <tr>\n",
       "      <th>725</th>\n",
       "      <td>58</td>\n",
       "      <td>2.00</td>\n",
       "      <td>49.88</td>\n",
       "      <td>33.43</td>\n",
       "      <td>6.00</td>\n",
       "      <td>6</td>\n",
       "      <td>14.00</td>\n",
       "      <td>1972</td>\n",
       "      <td>0.31</td>\n",
       "      <td>B</td>\n",
       "      <td>B</td>\n",
       "      <td>11</td>\n",
       "      <td>2748</td>\n",
       "      <td>1</td>\n",
       "      <td>nan</td>\n",
       "      <td>0</td>\n",
       "      <td>0</td>\n",
       "      <td>B</td>\n",
       "    </tr>\n",
       "    <tr>\n",
       "      <th>15856</th>\n",
       "      <td>74</td>\n",
       "      <td>2.00</td>\n",
       "      <td>69.26</td>\n",
       "      <td>nan</td>\n",
       "      <td>1.00</td>\n",
       "      <td>6</td>\n",
       "      <td>1.00</td>\n",
       "      <td>1977</td>\n",
       "      <td>0.08</td>\n",
       "      <td>B</td>\n",
       "      <td>B</td>\n",
       "      <td>6</td>\n",
       "      <td>1437</td>\n",
       "      <td>3</td>\n",
       "      <td>nan</td>\n",
       "      <td>0</td>\n",
       "      <td>2</td>\n",
       "      <td>B</td>\n",
       "    </tr>\n",
       "    <tr>\n",
       "      <th>5480</th>\n",
       "      <td>190</td>\n",
       "      <td>1.00</td>\n",
       "      <td>13.60</td>\n",
       "      <td>15.95</td>\n",
       "      <td>12.00</td>\n",
       "      <td>2</td>\n",
       "      <td>5.00</td>\n",
       "      <td>1909</td>\n",
       "      <td>0.00</td>\n",
       "      <td>B</td>\n",
       "      <td>B</td>\n",
       "      <td>30</td>\n",
       "      <td>7538</td>\n",
       "      <td>87</td>\n",
       "      <td>4,702.00</td>\n",
       "      <td>5</td>\n",
       "      <td>5</td>\n",
       "      <td>B</td>\n",
       "    </tr>\n",
       "    <tr>\n",
       "      <th>15664</th>\n",
       "      <td>47</td>\n",
       "      <td>2.00</td>\n",
       "      <td>73.05</td>\n",
       "      <td>51.94</td>\n",
       "      <td>9.00</td>\n",
       "      <td>22</td>\n",
       "      <td>22.00</td>\n",
       "      <td>2007</td>\n",
       "      <td>0.10</td>\n",
       "      <td>B</td>\n",
       "      <td>B</td>\n",
       "      <td>23</td>\n",
       "      <td>4583</td>\n",
       "      <td>3</td>\n",
       "      <td>nan</td>\n",
       "      <td>3</td>\n",
       "      <td>3</td>\n",
       "      <td>B</td>\n",
       "    </tr>\n",
       "    <tr>\n",
       "      <th>14275</th>\n",
       "      <td>27</td>\n",
       "      <td>1.00</td>\n",
       "      <td>47.53</td>\n",
       "      <td>43.39</td>\n",
       "      <td>1.00</td>\n",
       "      <td>17</td>\n",
       "      <td>17.00</td>\n",
       "      <td>2017</td>\n",
       "      <td>0.07</td>\n",
       "      <td>B</td>\n",
       "      <td>B</td>\n",
       "      <td>2</td>\n",
       "      <td>629</td>\n",
       "      <td>1</td>\n",
       "      <td>nan</td>\n",
       "      <td>0</td>\n",
       "      <td>0</td>\n",
       "      <td>A</td>\n",
       "    </tr>\n",
       "  </tbody>\n",
       "</table>\n",
       "</div>"
      ],
      "text/plain": [
       "       DistrictId  Rooms  Square  LifeSquare  KitchenSquare  Floor  \\\n",
       "Id                                                                   \n",
       "725            58   2.00   49.88       33.43           6.00      6   \n",
       "15856          74   2.00   69.26         nan           1.00      6   \n",
       "5480          190   1.00   13.60       15.95          12.00      2   \n",
       "15664          47   2.00   73.05       51.94           9.00     22   \n",
       "14275          27   1.00   47.53       43.39           1.00     17   \n",
       "\n",
       "       HouseFloor  HouseYear  Ecology_1 Ecology_2 Ecology_3  Social_1  \\\n",
       "Id                                                                      \n",
       "725         14.00       1972       0.31         B         B        11   \n",
       "15856        1.00       1977       0.08         B         B         6   \n",
       "5480         5.00       1909       0.00         B         B        30   \n",
       "15664       22.00       2007       0.10         B         B        23   \n",
       "14275       17.00       2017       0.07         B         B         2   \n",
       "\n",
       "       Social_2  Social_3  Healthcare_1  Helthcare_2  Shops_1 Shops_2  \n",
       "Id                                                                     \n",
       "725        2748         1           nan            0        0       B  \n",
       "15856      1437         3           nan            0        2       B  \n",
       "5480       7538        87      4,702.00            5        5       B  \n",
       "15664      4583         3           nan            3        3       B  \n",
       "14275       629         1           nan            0        0       A  "
      ]
     },
     "execution_count": 4,
     "metadata": {},
     "output_type": "execute_result"
    }
   ],
   "source": [
    "df_test=pd.read_csv('test.csv', index_col='Id')\n",
    "df_test.head()"
   ]
  },
  {
   "cell_type": "code",
   "execution_count": 5,
   "metadata": {},
   "outputs": [
    {
     "name": "stdout",
     "output_type": "stream",
     "text": [
      "<class 'pandas.core.frame.DataFrame'>\n",
      "Int64Index: 10000 entries, 14038 to 6306\n",
      "Data columns (total 19 columns):\n",
      " #   Column         Non-Null Count  Dtype  \n",
      "---  ------         --------------  -----  \n",
      " 0   DistrictId     10000 non-null  int64  \n",
      " 1   Rooms          10000 non-null  float64\n",
      " 2   Square         10000 non-null  float64\n",
      " 3   LifeSquare     7887 non-null   float64\n",
      " 4   KitchenSquare  10000 non-null  float64\n",
      " 5   Floor          10000 non-null  int64  \n",
      " 6   HouseFloor     10000 non-null  float64\n",
      " 7   HouseYear      10000 non-null  int64  \n",
      " 8   Ecology_1      10000 non-null  float64\n",
      " 9   Ecology_2      10000 non-null  object \n",
      " 10  Ecology_3      10000 non-null  object \n",
      " 11  Social_1       10000 non-null  int64  \n",
      " 12  Social_2       10000 non-null  int64  \n",
      " 13  Social_3       10000 non-null  int64  \n",
      " 14  Healthcare_1   5202 non-null   float64\n",
      " 15  Helthcare_2    10000 non-null  int64  \n",
      " 16  Shops_1        10000 non-null  int64  \n",
      " 17  Shops_2        10000 non-null  object \n",
      " 18  Price          10000 non-null  float64\n",
      "dtypes: float64(8), int64(8), object(3)\n",
      "memory usage: 1.5+ MB\n"
     ]
    }
   ],
   "source": [
    "df.info()"
   ]
  },
  {
   "cell_type": "code",
   "execution_count": 6,
   "metadata": {},
   "outputs": [
    {
     "data": {
      "text/html": [
       "<div>\n",
       "<style scoped>\n",
       "    .dataframe tbody tr th:only-of-type {\n",
       "        vertical-align: middle;\n",
       "    }\n",
       "\n",
       "    .dataframe tbody tr th {\n",
       "        vertical-align: top;\n",
       "    }\n",
       "\n",
       "    .dataframe thead th {\n",
       "        text-align: right;\n",
       "    }\n",
       "</style>\n",
       "<table border=\"1\" class=\"dataframe\">\n",
       "  <thead>\n",
       "    <tr style=\"text-align: right;\">\n",
       "      <th></th>\n",
       "      <th>DistrictId</th>\n",
       "      <th>Rooms</th>\n",
       "      <th>Square</th>\n",
       "      <th>LifeSquare</th>\n",
       "      <th>KitchenSquare</th>\n",
       "      <th>Floor</th>\n",
       "      <th>HouseFloor</th>\n",
       "      <th>HouseYear</th>\n",
       "      <th>Ecology_1</th>\n",
       "      <th>Social_1</th>\n",
       "      <th>Social_2</th>\n",
       "      <th>Social_3</th>\n",
       "      <th>Healthcare_1</th>\n",
       "      <th>Helthcare_2</th>\n",
       "      <th>Shops_1</th>\n",
       "      <th>Price</th>\n",
       "    </tr>\n",
       "  </thead>\n",
       "  <tbody>\n",
       "    <tr>\n",
       "      <th>count</th>\n",
       "      <td>10,000.00</td>\n",
       "      <td>10,000.00</td>\n",
       "      <td>10,000.00</td>\n",
       "      <td>7,887.00</td>\n",
       "      <td>10,000.00</td>\n",
       "      <td>10,000.00</td>\n",
       "      <td>10,000.00</td>\n",
       "      <td>10,000.00</td>\n",
       "      <td>10,000.00</td>\n",
       "      <td>10,000.00</td>\n",
       "      <td>10,000.00</td>\n",
       "      <td>10,000.00</td>\n",
       "      <td>5,202.00</td>\n",
       "      <td>10,000.00</td>\n",
       "      <td>10,000.00</td>\n",
       "      <td>10,000.00</td>\n",
       "    </tr>\n",
       "    <tr>\n",
       "      <th>mean</th>\n",
       "      <td>50.40</td>\n",
       "      <td>1.89</td>\n",
       "      <td>56.32</td>\n",
       "      <td>37.20</td>\n",
       "      <td>6.27</td>\n",
       "      <td>8.53</td>\n",
       "      <td>12.61</td>\n",
       "      <td>3,990.17</td>\n",
       "      <td>0.12</td>\n",
       "      <td>24.69</td>\n",
       "      <td>5,352.16</td>\n",
       "      <td>8.04</td>\n",
       "      <td>1,142.90</td>\n",
       "      <td>1.32</td>\n",
       "      <td>4.23</td>\n",
       "      <td>214,138.86</td>\n",
       "    </tr>\n",
       "    <tr>\n",
       "      <th>std</th>\n",
       "      <td>43.59</td>\n",
       "      <td>0.84</td>\n",
       "      <td>21.06</td>\n",
       "      <td>86.24</td>\n",
       "      <td>28.56</td>\n",
       "      <td>5.24</td>\n",
       "      <td>6.78</td>\n",
       "      <td>200,500.26</td>\n",
       "      <td>0.12</td>\n",
       "      <td>17.53</td>\n",
       "      <td>4,006.80</td>\n",
       "      <td>23.83</td>\n",
       "      <td>1,021.52</td>\n",
       "      <td>1.49</td>\n",
       "      <td>4.81</td>\n",
       "      <td>92,872.29</td>\n",
       "    </tr>\n",
       "    <tr>\n",
       "      <th>min</th>\n",
       "      <td>0.00</td>\n",
       "      <td>0.00</td>\n",
       "      <td>1.14</td>\n",
       "      <td>0.37</td>\n",
       "      <td>0.00</td>\n",
       "      <td>1.00</td>\n",
       "      <td>0.00</td>\n",
       "      <td>1,910.00</td>\n",
       "      <td>0.00</td>\n",
       "      <td>0.00</td>\n",
       "      <td>168.00</td>\n",
       "      <td>0.00</td>\n",
       "      <td>0.00</td>\n",
       "      <td>0.00</td>\n",
       "      <td>0.00</td>\n",
       "      <td>59,174.78</td>\n",
       "    </tr>\n",
       "    <tr>\n",
       "      <th>25%</th>\n",
       "      <td>20.00</td>\n",
       "      <td>1.00</td>\n",
       "      <td>41.77</td>\n",
       "      <td>22.77</td>\n",
       "      <td>1.00</td>\n",
       "      <td>4.00</td>\n",
       "      <td>9.00</td>\n",
       "      <td>1,974.00</td>\n",
       "      <td>0.02</td>\n",
       "      <td>6.00</td>\n",
       "      <td>1,564.00</td>\n",
       "      <td>0.00</td>\n",
       "      <td>350.00</td>\n",
       "      <td>0.00</td>\n",
       "      <td>1.00</td>\n",
       "      <td>153,872.63</td>\n",
       "    </tr>\n",
       "    <tr>\n",
       "      <th>50%</th>\n",
       "      <td>36.00</td>\n",
       "      <td>2.00</td>\n",
       "      <td>52.51</td>\n",
       "      <td>32.78</td>\n",
       "      <td>6.00</td>\n",
       "      <td>7.00</td>\n",
       "      <td>13.00</td>\n",
       "      <td>1,977.00</td>\n",
       "      <td>0.08</td>\n",
       "      <td>25.00</td>\n",
       "      <td>5,285.00</td>\n",
       "      <td>2.00</td>\n",
       "      <td>900.00</td>\n",
       "      <td>1.00</td>\n",
       "      <td>3.00</td>\n",
       "      <td>192,269.64</td>\n",
       "    </tr>\n",
       "    <tr>\n",
       "      <th>75%</th>\n",
       "      <td>75.00</td>\n",
       "      <td>2.00</td>\n",
       "      <td>65.90</td>\n",
       "      <td>45.13</td>\n",
       "      <td>9.00</td>\n",
       "      <td>12.00</td>\n",
       "      <td>17.00</td>\n",
       "      <td>2,001.00</td>\n",
       "      <td>0.20</td>\n",
       "      <td>36.00</td>\n",
       "      <td>7,227.00</td>\n",
       "      <td>5.00</td>\n",
       "      <td>1,548.00</td>\n",
       "      <td>2.00</td>\n",
       "      <td>6.00</td>\n",
       "      <td>249,135.46</td>\n",
       "    </tr>\n",
       "    <tr>\n",
       "      <th>max</th>\n",
       "      <td>209.00</td>\n",
       "      <td>19.00</td>\n",
       "      <td>641.07</td>\n",
       "      <td>7,480.59</td>\n",
       "      <td>2,014.00</td>\n",
       "      <td>42.00</td>\n",
       "      <td>117.00</td>\n",
       "      <td>20,052,011.00</td>\n",
       "      <td>0.52</td>\n",
       "      <td>74.00</td>\n",
       "      <td>19,083.00</td>\n",
       "      <td>141.00</td>\n",
       "      <td>4,849.00</td>\n",
       "      <td>6.00</td>\n",
       "      <td>23.00</td>\n",
       "      <td>633,233.47</td>\n",
       "    </tr>\n",
       "  </tbody>\n",
       "</table>\n",
       "</div>"
      ],
      "text/plain": [
       "       DistrictId     Rooms    Square  LifeSquare  KitchenSquare     Floor  \\\n",
       "count   10,000.00 10,000.00 10,000.00    7,887.00      10,000.00 10,000.00   \n",
       "mean        50.40      1.89     56.32       37.20           6.27      8.53   \n",
       "std         43.59      0.84     21.06       86.24          28.56      5.24   \n",
       "min          0.00      0.00      1.14        0.37           0.00      1.00   \n",
       "25%         20.00      1.00     41.77       22.77           1.00      4.00   \n",
       "50%         36.00      2.00     52.51       32.78           6.00      7.00   \n",
       "75%         75.00      2.00     65.90       45.13           9.00     12.00   \n",
       "max        209.00     19.00    641.07    7,480.59       2,014.00     42.00   \n",
       "\n",
       "       HouseFloor     HouseYear  Ecology_1  Social_1  Social_2  Social_3  \\\n",
       "count   10,000.00     10,000.00  10,000.00 10,000.00 10,000.00 10,000.00   \n",
       "mean        12.61      3,990.17       0.12     24.69  5,352.16      8.04   \n",
       "std          6.78    200,500.26       0.12     17.53  4,006.80     23.83   \n",
       "min          0.00      1,910.00       0.00      0.00    168.00      0.00   \n",
       "25%          9.00      1,974.00       0.02      6.00  1,564.00      0.00   \n",
       "50%         13.00      1,977.00       0.08     25.00  5,285.00      2.00   \n",
       "75%         17.00      2,001.00       0.20     36.00  7,227.00      5.00   \n",
       "max        117.00 20,052,011.00       0.52     74.00 19,083.00    141.00   \n",
       "\n",
       "       Healthcare_1  Helthcare_2   Shops_1      Price  \n",
       "count      5,202.00    10,000.00 10,000.00  10,000.00  \n",
       "mean       1,142.90         1.32      4.23 214,138.86  \n",
       "std        1,021.52         1.49      4.81  92,872.29  \n",
       "min            0.00         0.00      0.00  59,174.78  \n",
       "25%          350.00         0.00      1.00 153,872.63  \n",
       "50%          900.00         1.00      3.00 192,269.64  \n",
       "75%        1,548.00         2.00      6.00 249,135.46  \n",
       "max        4,849.00         6.00     23.00 633,233.47  "
      ]
     },
     "execution_count": 6,
     "metadata": {},
     "output_type": "execute_result"
    }
   ],
   "source": [
    "df.describe()"
   ]
  },
  {
   "cell_type": "code",
   "execution_count": 7,
   "metadata": {},
   "outputs": [
    {
     "name": "stdout",
     "output_type": "stream",
     "text": [
      "<class 'pandas.core.frame.DataFrame'>\n",
      "Int64Index: 5000 entries, 725 to 12504\n",
      "Data columns (total 18 columns):\n",
      " #   Column         Non-Null Count  Dtype  \n",
      "---  ------         --------------  -----  \n",
      " 0   DistrictId     5000 non-null   int64  \n",
      " 1   Rooms          5000 non-null   float64\n",
      " 2   Square         5000 non-null   float64\n",
      " 3   LifeSquare     3959 non-null   float64\n",
      " 4   KitchenSquare  5000 non-null   float64\n",
      " 5   Floor          5000 non-null   int64  \n",
      " 6   HouseFloor     5000 non-null   float64\n",
      " 7   HouseYear      5000 non-null   int64  \n",
      " 8   Ecology_1      5000 non-null   float64\n",
      " 9   Ecology_2      5000 non-null   object \n",
      " 10  Ecology_3      5000 non-null   object \n",
      " 11  Social_1       5000 non-null   int64  \n",
      " 12  Social_2       5000 non-null   int64  \n",
      " 13  Social_3       5000 non-null   int64  \n",
      " 14  Healthcare_1   2623 non-null   float64\n",
      " 15  Helthcare_2    5000 non-null   int64  \n",
      " 16  Shops_1        5000 non-null   int64  \n",
      " 17  Shops_2        5000 non-null   object \n",
      "dtypes: float64(7), int64(8), object(3)\n",
      "memory usage: 742.2+ KB\n"
     ]
    }
   ],
   "source": [
    "df_test.info()"
   ]
  },
  {
   "cell_type": "markdown",
   "metadata": {},
   "source": [
    "###### Вывод: Оба фрейма имеют одинаковую структуру"
   ]
  },
  {
   "cell_type": "markdown",
   "metadata": {},
   "source": [
    "# Посмотрим структуру объектных переменных"
   ]
  },
  {
   "cell_type": "code",
   "execution_count": 8,
   "metadata": {},
   "outputs": [
    {
     "data": {
      "text/html": [
       "<div>\n",
       "<style scoped>\n",
       "    .dataframe tbody tr th:only-of-type {\n",
       "        vertical-align: middle;\n",
       "    }\n",
       "\n",
       "    .dataframe tbody tr th {\n",
       "        vertical-align: top;\n",
       "    }\n",
       "\n",
       "    .dataframe thead th {\n",
       "        text-align: right;\n",
       "    }\n",
       "</style>\n",
       "<table border=\"1\" class=\"dataframe\">\n",
       "  <thead>\n",
       "    <tr style=\"text-align: right;\">\n",
       "      <th></th>\n",
       "      <th>Ecology_2</th>\n",
       "      <th>Ecology_3</th>\n",
       "      <th>Shops_2</th>\n",
       "    </tr>\n",
       "  </thead>\n",
       "  <tbody>\n",
       "    <tr>\n",
       "      <th>count</th>\n",
       "      <td>10000</td>\n",
       "      <td>10000</td>\n",
       "      <td>10000</td>\n",
       "    </tr>\n",
       "    <tr>\n",
       "      <th>unique</th>\n",
       "      <td>2</td>\n",
       "      <td>2</td>\n",
       "      <td>2</td>\n",
       "    </tr>\n",
       "    <tr>\n",
       "      <th>top</th>\n",
       "      <td>B</td>\n",
       "      <td>B</td>\n",
       "      <td>B</td>\n",
       "    </tr>\n",
       "    <tr>\n",
       "      <th>freq</th>\n",
       "      <td>9903</td>\n",
       "      <td>9725</td>\n",
       "      <td>9175</td>\n",
       "    </tr>\n",
       "  </tbody>\n",
       "</table>\n",
       "</div>"
      ],
      "text/plain": [
       "       Ecology_2 Ecology_3 Shops_2\n",
       "count      10000     10000   10000\n",
       "unique         2         2       2\n",
       "top            B         B       B\n",
       "freq        9903      9725    9175"
      ]
     },
     "execution_count": 8,
     "metadata": {},
     "output_type": "execute_result"
    }
   ],
   "source": [
    "df.describe(include='object')"
   ]
  },
  {
   "cell_type": "code",
   "execution_count": 9,
   "metadata": {},
   "outputs": [
    {
     "data": {
      "text/plain": [
       "B    9903\n",
       "A      97\n",
       "Name: Ecology_2, dtype: int64"
      ]
     },
     "execution_count": 9,
     "metadata": {},
     "output_type": "execute_result"
    }
   ],
   "source": [
    "df['Ecology_2'].value_counts()"
   ]
  },
  {
   "cell_type": "code",
   "execution_count": 10,
   "metadata": {},
   "outputs": [
    {
     "data": {
      "image/png": "[encoded data removed]",
      "text/plain": [
       "<Figure size 720x360 with 1 Axes>"
      ]
     },
     "metadata": {},
     "output_type": "display_data"
    }
   ],
   "source": [
    "sns.catplot('Ecology_2', 'Price', kind=\"box\", data=df, aspect=2/1);"
   ]
  },
  {
   "cell_type": "code",
   "execution_count": 11,
   "metadata": {},
   "outputs": [
    {
     "data": {
      "text/plain": [
       "B    9725\n",
       "A     275\n",
       "Name: Ecology_3, dtype: int64"
      ]
     },
     "execution_count": 11,
     "metadata": {},
     "output_type": "execute_result"
    }
   ],
   "source": [
    "df['Ecology_3'].value_counts()"
   ]
  },
  {
   "cell_type": "code",
   "execution_count": 12,
   "metadata": {},
   "outputs": [
    {
     "data": {
      "image/png": "[encoded data removed]",
      "text/plain": [
       "<Figure size 720x360 with 1 Axes>"
      ]
     },
     "metadata": {},
     "output_type": "display_data"
    }
   ],
   "source": [
    "sns.catplot('Ecology_3', 'Price', kind=\"box\", data=df, aspect=2/1);"
   ]
  },
  {
   "cell_type": "code",
   "execution_count": 13,
   "metadata": {},
   "outputs": [
    {
     "data": {
      "text/plain": [
       "B    9175\n",
       "A     825\n",
       "Name: Shops_2, dtype: int64"
      ]
     },
     "execution_count": 13,
     "metadata": {},
     "output_type": "execute_result"
    }
   ],
   "source": [
    "df['Shops_2'].value_counts()"
   ]
  },
  {
   "cell_type": "code",
   "execution_count": 14,
   "metadata": {},
   "outputs": [
    {
     "data": {
      "image/png": "[encoded data removed]",
      "text/plain": [
       "<Figure size 720x360 with 1 Axes>"
      ]
     },
     "metadata": {},
     "output_type": "display_data"
    }
   ],
   "source": [
    "sns.catplot('Shops_2', 'Price', kind=\"box\", data=df, aspect=2/1);"
   ]
  },
  {
   "cell_type": "markdown",
   "metadata": {},
   "source": [
    "###### Промежуточный вывод: Объектные переменные выглядят как маловлияющие на цену. Кандидаты на исключение вдальнейщем"
   ]
  },
  {
   "cell_type": "markdown",
   "metadata": {},
   "source": [
    "# Сколько пропущенных значений"
   ]
  },
  {
   "cell_type": "code",
   "execution_count": 15,
   "metadata": {
    "scrolled": false
   },
   "outputs": [
    {
     "data": {
      "text/plain": [
       "DistrictId          0\n",
       "Rooms               0\n",
       "Square              0\n",
       "LifeSquare       2113\n",
       "KitchenSquare       0\n",
       "Floor               0\n",
       "HouseFloor          0\n",
       "HouseYear           0\n",
       "Ecology_1           0\n",
       "Ecology_2           0\n",
       "Ecology_3           0\n",
       "Social_1            0\n",
       "Social_2            0\n",
       "Social_3            0\n",
       "Healthcare_1     4798\n",
       "Helthcare_2         0\n",
       "Shops_1             0\n",
       "Shops_2             0\n",
       "Price               0\n",
       "dtype: int64"
      ]
     },
     "execution_count": 15,
     "metadata": {},
     "output_type": "execute_result"
    }
   ],
   "source": [
    "len(df) - df.count()"
   ]
  },
  {
   "cell_type": "markdown",
   "metadata": {},
   "source": [
    "###### Вывод: Две переменные имеют пропущенные значения"
   ]
  },
  {
   "cell_type": "code",
   "execution_count": 16,
   "metadata": {},
   "outputs": [
    {
     "data": {
      "text/plain": [
       "count   7,887.00\n",
       "mean       37.20\n",
       "std        86.24\n",
       "min         0.37\n",
       "25%        22.77\n",
       "50%        32.78\n",
       "75%        45.13\n",
       "max     7,480.59\n",
       "Name: LifeSquare, dtype: float64"
      ]
     },
     "execution_count": 16,
     "metadata": {},
     "output_type": "execute_result"
    }
   ],
   "source": [
    "df['LifeSquare'].describe()"
   ]
  },
  {
   "cell_type": "markdown",
   "metadata": {},
   "source": [
    "###### Вывод: много пропущеных, и очень большой разброс значений (4 порядка), но пока не понятно, что с этим делать"
   ]
  },
  {
   "cell_type": "markdown",
   "metadata": {},
   "source": [
    "### Посмотрим, какие данные по комнатам"
   ]
  },
  {
   "cell_type": "code",
   "execution_count": 17,
   "metadata": {},
   "outputs": [
    {
     "data": {
      "text/plain": [
       "2.00     3880\n",
       "1.00     3705\n",
       "3.00     2235\n",
       "4.00      150\n",
       "5.00       18\n",
       "0.00        8\n",
       "10.00       2\n",
       "19.00       1\n",
       "6.00        1\n",
       "Name: Rooms, dtype: int64"
      ]
     },
     "execution_count": 17,
     "metadata": {},
     "output_type": "execute_result"
    }
   ],
   "source": [
    "df['Rooms'].value_counts()"
   ]
  },
  {
   "cell_type": "markdown",
   "metadata": {},
   "source": [
    "###### Комнат не может быть 0, постараемся исправить ситуацию"
   ]
  },
  {
   "cell_type": "markdown",
   "metadata": {},
   "source": [
    "## Добавим новую переменную: Площадь одной комнаты"
   ]
  },
  {
   "cell_type": "code",
   "execution_count": 18,
   "metadata": {
    "scrolled": true
   },
   "outputs": [
    {
     "data": {
      "text/plain": [
       "count   10,000.00\n",
       "mean          inf\n",
       "std           nan\n",
       "min          1.00\n",
       "25%         25.00\n",
       "50%         30.00\n",
       "75%         39.00\n",
       "max           inf\n",
       "Name: OneRoomSquare, dtype: float64"
      ]
     },
     "execution_count": 18,
     "metadata": {},
     "output_type": "execute_result"
    }
   ],
   "source": [
    "df['OneRoomSquare'] = df['Square'] // df['Rooms']\n",
    "df_test['OneRoomSquare'] = df_test['Square'] // df_test['Rooms']\n",
    "\n",
    "df.loc[(df['OneRoomSquare'] < 1) | df['OneRoomSquare'].isna(), 'OneRoomSquare'] =  df['Square']\n",
    "\n",
    "df_test.loc[(df_test['OneRoomSquare'] < 1) | df_test['OneRoomSquare'].isna(), 'OneRoomSquare'] =  df_test['Square']\n",
    "\n",
    "df['OneRoomSquare'].describe()"
   ]
  },
  {
   "cell_type": "code",
   "execution_count": 19,
   "metadata": {},
   "outputs": [],
   "source": [
    "df.loc[df['Rooms'] == 0, 'Rooms'] =  df['Square'] // df['OneRoomSquare'].median()\n",
    "df_test.loc[df_test['Rooms'] == 0, 'Rooms'] =  df_test['Square'] // df['OneRoomSquare'].median()"
   ]
  },
  {
   "cell_type": "code",
   "execution_count": 20,
   "metadata": {},
   "outputs": [],
   "source": [
    "df.loc[(df['OneRoomSquare'] > 90) & (df['Rooms'] <3), 'Rooms'] =  df['Square'] // df['OneRoomSquare'].median()\n",
    "df_test.loc[(df_test['OneRoomSquare'] > 90) & (df_test['Rooms'] <3), 'Rooms'] =  df_test['Square'] // df['OneRoomSquare'].median()\n",
    "\n",
    "df.loc[df['OneRoomSquare'] > 90, 'OneRoomSquare'] = df['OneRoomSquare'].median()\n",
    "df_test.loc[df_test['OneRoomSquare'] > 90, 'OneRoomSquare'] = df['OneRoomSquare'].median()"
   ]
  },
  {
   "cell_type": "code",
   "execution_count": 21,
   "metadata": {},
   "outputs": [
    {
     "data": {
      "text/plain": [
       "count   10,000.00\n",
       "mean        31.68\n",
       "std          8.90\n",
       "min          1.00\n",
       "25%         25.00\n",
       "50%         30.00\n",
       "75%         38.00\n",
       "max         87.00\n",
       "Name: OneRoomSquare, dtype: float64"
      ]
     },
     "execution_count": 21,
     "metadata": {},
     "output_type": "execute_result"
    }
   ],
   "source": [
    "df['OneRoomSquare'].describe()"
   ]
  },
  {
   "cell_type": "code",
   "execution_count": 22,
   "metadata": {},
   "outputs": [
    {
     "data": {
      "text/plain": [
       "count   5,000.00\n",
       "mean       31.45\n",
       "std         8.95\n",
       "min         1.00\n",
       "25%        25.00\n",
       "50%        30.00\n",
       "75%        38.00\n",
       "max        88.00\n",
       "Name: OneRoomSquare, dtype: float64"
      ]
     },
     "execution_count": 22,
     "metadata": {},
     "output_type": "execute_result"
    }
   ],
   "source": [
    "df_test['OneRoomSquare'].describe()"
   ]
  },
  {
   "cell_type": "markdown",
   "metadata": {},
   "source": [
    "###### новую переменную привели к понятным значениям\n",
    "вернёмся к количеству комнат"
   ]
  },
  {
   "cell_type": "code",
   "execution_count": 23,
   "metadata": {},
   "outputs": [],
   "source": [
    "df.loc[(df['Rooms'] > 5) & (df['OneRoomSquare'] < 90), 'Rooms'] =  df['Square'] //df['OneRoomSquare'].median()\n",
    "df_test.loc[(df_test['Rooms'] > 5) & (df_test['OneRoomSquare'] < 90), 'Rooms'] =  df_test['Square'] //df['OneRoomSquare'].median()\n",
    "\n",
    "df.loc[df['Rooms'].isna(), 'Rooms'] = df['Square'] // df['OneRoomSquare']\n",
    "df_test.loc[df_test['Rooms'].isna(), 'Rooms'] = df_test['Square'] // df_test['OneRoomSquare']\n",
    "\n",
    "df.loc[(df['Rooms'] > 5), 'Rooms'] =  5\n",
    "df_test.loc[(df_test['Rooms'] > 5), 'Rooms'] =  5\n",
    "\n",
    "df.loc[df['Rooms'] == 0, 'Rooms'] =  1\n",
    "df_test.loc[df_test['Rooms'] == 0, 'Rooms'] =  1"
   ]
  },
  {
   "cell_type": "code",
   "execution_count": 24,
   "metadata": {},
   "outputs": [
    {
     "data": {
      "text/plain": [
       "2.00    3881\n",
       "1.00    3686\n",
       "3.00    2250\n",
       "4.00     157\n",
       "5.00      26\n",
       "Name: Rooms, dtype: int64"
      ]
     },
     "execution_count": 24,
     "metadata": {},
     "output_type": "execute_result"
    }
   ],
   "source": [
    "df['Rooms'].value_counts()"
   ]
  },
  {
   "cell_type": "code",
   "execution_count": 25,
   "metadata": {},
   "outputs": [
    {
     "data": {
      "text/plain": [
       "2.00    2031\n",
       "1.00    1759\n",
       "3.00    1108\n",
       "4.00      93\n",
       "5.00       9\n",
       "Name: Rooms, dtype: int64"
      ]
     },
     "execution_count": 25,
     "metadata": {},
     "output_type": "execute_result"
    }
   ],
   "source": [
    "df_test['Rooms'].value_counts()"
   ]
  },
  {
   "cell_type": "markdown",
   "metadata": {},
   "source": [
    "###### Количество комнат привели к нормальным значениям"
   ]
  },
  {
   "cell_type": "markdown",
   "metadata": {},
   "source": [
    "### Посмотрим влияние основных параметров на цену"
   ]
  },
  {
   "cell_type": "code",
   "execution_count": 26,
   "metadata": {},
   "outputs": [
    {
     "data": {
      "text/plain": [
       "<matplotlib.collections.PathCollection at 0xba204f0>"
      ]
     },
     "execution_count": 26,
     "metadata": {},
     "output_type": "execute_result"
    },
    {
     "data": {
      "image/png": "[encoded data removed]",
      "text/plain": [
       "<Figure size 432x288 with 1 Axes>"
      ]
     },
     "metadata": {},
     "output_type": "display_data"
    }
   ],
   "source": [
    "plt.scatter(df['Rooms'], df['Price'])"
   ]
  },
  {
   "cell_type": "code",
   "execution_count": 27,
   "metadata": {},
   "outputs": [
    {
     "data": {
      "image/png": "[encoded data removed]",
      "text/plain": [
       "<Figure size 720x360 with 1 Axes>"
      ]
     },
     "metadata": {},
     "output_type": "display_data"
    }
   ],
   "source": [
    "sns.catplot('Rooms', 'Price', kind=\"box\", data=df, aspect=2/1);"
   ]
  },
  {
   "cell_type": "code",
   "execution_count": 28,
   "metadata": {},
   "outputs": [
    {
     "data": {
      "text/plain": [
       "count   7,887.00\n",
       "mean       37.20\n",
       "std        86.24\n",
       "min         0.37\n",
       "25%        22.77\n",
       "50%        32.78\n",
       "75%        45.13\n",
       "max     7,480.59\n",
       "Name: LifeSquare, dtype: float64"
      ]
     },
     "execution_count": 28,
     "metadata": {},
     "output_type": "execute_result"
    }
   ],
   "source": [
    "df['LifeSquare'].describe()"
   ]
  },
  {
   "cell_type": "code",
   "execution_count": 29,
   "metadata": {},
   "outputs": [
    {
     "data": {
      "text/plain": [
       "<matplotlib.collections.PathCollection at 0xbadbfa0>"
      ]
     },
     "execution_count": 29,
     "metadata": {},
     "output_type": "execute_result"
    },
    {
     "data": {
      "image/png": "[encoded data removed]",
      "text/plain": [
       "<Figure size 432x288 with 1 Axes>"
      ]
     },
     "metadata": {},
     "output_type": "display_data"
    }
   ],
   "source": [
    "plt.scatter(df['LifeSquare'], df['Price'])"
   ]
  },
  {
   "cell_type": "markdown",
   "metadata": {},
   "source": [
    "## Все типы переменных площади должны вести себя примерно одинаково.\n",
    "## Значит, одинаковым образом будем обрабатывать выбросы данных переменных"
   ]
  },
  {
   "cell_type": "code",
   "execution_count": 30,
   "metadata": {},
   "outputs": [],
   "source": [
    "df.loc[df['LifeSquare'].isna(), 'LifeSquare'] = df['Square'] - df['KitchenSquare']\n",
    "df_test.loc[df_test['LifeSquare'].isna(), 'LifeSquare'] = df_test['Square'] - df_test['KitchenSquare']"
   ]
  },
  {
   "cell_type": "code",
   "execution_count": 31,
   "metadata": {},
   "outputs": [],
   "source": [
    "df['temp'] = df['Square']\n",
    "df.loc[df['LifeSquare'] / df['Square'] > 1.0, 'Square'] = df.loc[df['LifeSquare'] / df['Square'] > 1.0, 'LifeSquare']\n",
    "df.loc[df['LifeSquare'] / df['temp'] > 1.0 , 'LifeSquare'] = df.loc[df['LifeSquare'] / df['temp'] > 1.0 , 'temp']\n",
    "df.drop('temp', axis=1, inplace=True)\n",
    "\n",
    "df_test['temp'] = df_test['Square']\n",
    "df_test.loc[df_test['LifeSquare'] / df_test['Square'] > 1.0, 'Square'] = df_test.loc[df_test['LifeSquare'] / df_test['Square'] > 1.0, 'LifeSquare']\n",
    "df_test.loc[df_test['LifeSquare'] / df_test['temp'] > 1.0 , 'LifeSquare'] = df_test.loc[df_test['LifeSquare'] / df_test['temp'] > 1.0 , 'temp']\n",
    "df_test.drop('temp', axis=1, inplace=True)"
   ]
  },
  {
   "cell_type": "code",
   "execution_count": 32,
   "metadata": {},
   "outputs": [],
   "source": [
    "df.loc[df['Square'] > 250 , 'Square'] = df['Square'].median()\n",
    "df.loc[df['KitchenSquare'] > 80 , 'KitchenSquare'] = df['KitchenSquare'].median()\n",
    "df.loc[df['LifeSquare'] > 250 , 'LifeSquare'] = df['LifeSquare'].median()\n",
    "\n",
    "df_test.loc[df_test['Square'] > 250 , 'Square'] = df['Square'].median()\n",
    "df_test.loc[df_test['KitchenSquare'] > 80 , 'KitchenSquare'] = df['KitchenSquare'].median()\n",
    "df_test.loc[df_test['LifeSquare'] > 250 , 'LifeSquare'] = df['LifeSquare'].median()"
   ]
  },
  {
   "cell_type": "markdown",
   "metadata": {},
   "source": [
    "## Посмотрим влияние разных типов площадей на цену"
   ]
  },
  {
   "cell_type": "code",
   "execution_count": 33,
   "metadata": {},
   "outputs": [
    {
     "data": {
      "text/plain": [
       "<matplotlib.collections.PathCollection at 0xbb30e50>"
      ]
     },
     "execution_count": 33,
     "metadata": {},
     "output_type": "execute_result"
    },
    {
     "data": {
      "image/png": "[encoded data removed]",
      "text/plain": [
       "<Figure size 432x288 with 1 Axes>"
      ]
     },
     "metadata": {},
     "output_type": "display_data"
    }
   ],
   "source": [
    "plt.scatter(df['LifeSquare'], df['Price'])"
   ]
  },
  {
   "cell_type": "code",
   "execution_count": 34,
   "metadata": {},
   "outputs": [
    {
     "data": {
      "text/plain": [
       "<matplotlib.collections.PathCollection at 0xbb3c2b0>"
      ]
     },
     "execution_count": 34,
     "metadata": {},
     "output_type": "execute_result"
    },
    {
     "data": {
      "image/png": "[encoded data removed]",
      "text/plain": [
       "<Figure size 432x288 with 1 Axes>"
      ]
     },
     "metadata": {},
     "output_type": "display_data"
    }
   ],
   "source": [
    "plt.scatter(df['KitchenSquare'], df['Price'])"
   ]
  },
  {
   "cell_type": "code",
   "execution_count": 35,
   "metadata": {},
   "outputs": [
    {
     "data": {
      "text/plain": [
       "<matplotlib.collections.PathCollection at 0xba51c70>"
      ]
     },
     "execution_count": 35,
     "metadata": {},
     "output_type": "execute_result"
    },
    {
     "data": {
      "image/png": "[encoded data removed]",
      "text/plain": [
       "<Figure size 432x288 with 1 Axes>"
      ]
     },
     "metadata": {},
     "output_type": "display_data"
    }
   ],
   "source": [
    "plt.scatter(df['Square'], df['Price'])"
   ]
  },
  {
   "cell_type": "code",
   "execution_count": 36,
   "metadata": {},
   "outputs": [
    {
     "data": {
      "text/plain": [
       "count   10,000.00\n",
       "mean        56.25\n",
       "std         19.04\n",
       "min          2.38\n",
       "25%         41.87\n",
       "50%         52.63\n",
       "75%         65.98\n",
       "max        212.93\n",
       "Name: Square, dtype: float64"
      ]
     },
     "execution_count": 36,
     "metadata": {},
     "output_type": "execute_result"
    }
   ],
   "source": [
    "df['Square'].describe()"
   ]
  },
  {
   "cell_type": "code",
   "execution_count": 37,
   "metadata": {},
   "outputs": [
    {
     "data": {
      "text/html": [
       "<div>\n",
       "<style scoped>\n",
       "    .dataframe tbody tr th:only-of-type {\n",
       "        vertical-align: middle;\n",
       "    }\n",
       "\n",
       "    .dataframe tbody tr th {\n",
       "        vertical-align: top;\n",
       "    }\n",
       "\n",
       "    .dataframe thead th {\n",
       "        text-align: right;\n",
       "    }\n",
       "</style>\n",
       "<table border=\"1\" class=\"dataframe\">\n",
       "  <thead>\n",
       "    <tr style=\"text-align: right;\">\n",
       "      <th></th>\n",
       "      <th>Price</th>\n",
       "      <th>Square</th>\n",
       "      <th>Rooms</th>\n",
       "    </tr>\n",
       "    <tr>\n",
       "      <th>Id</th>\n",
       "      <th></th>\n",
       "      <th></th>\n",
       "      <th></th>\n",
       "    </tr>\n",
       "  </thead>\n",
       "  <tbody>\n",
       "    <tr>\n",
       "      <th>11526</th>\n",
       "      <td>107,604.27</td>\n",
       "      <td>4.63</td>\n",
       "      <td>1.00</td>\n",
       "    </tr>\n",
       "    <tr>\n",
       "      <th>10202</th>\n",
       "      <td>137,597.60</td>\n",
       "      <td>4.60</td>\n",
       "      <td>1.00</td>\n",
       "    </tr>\n",
       "    <tr>\n",
       "      <th>9487</th>\n",
       "      <td>369,472.40</td>\n",
       "      <td>5.55</td>\n",
       "      <td>1.00</td>\n",
       "    </tr>\n",
       "    <tr>\n",
       "      <th>3224</th>\n",
       "      <td>126,596.94</td>\n",
       "      <td>2.38</td>\n",
       "      <td>1.00</td>\n",
       "    </tr>\n",
       "    <tr>\n",
       "      <th>4504</th>\n",
       "      <td>161,379.07</td>\n",
       "      <td>5.61</td>\n",
       "      <td>3.00</td>\n",
       "    </tr>\n",
       "    <tr>\n",
       "      <th>14786</th>\n",
       "      <td>181,434.83</td>\n",
       "      <td>4.53</td>\n",
       "      <td>1.00</td>\n",
       "    </tr>\n",
       "    <tr>\n",
       "      <th>15744</th>\n",
       "      <td>458,378.78</td>\n",
       "      <td>2.64</td>\n",
       "      <td>1.00</td>\n",
       "    </tr>\n",
       "    <tr>\n",
       "      <th>6782</th>\n",
       "      <td>438,005.18</td>\n",
       "      <td>5.26</td>\n",
       "      <td>1.00</td>\n",
       "    </tr>\n",
       "    <tr>\n",
       "      <th>7657</th>\n",
       "      <td>483,283.49</td>\n",
       "      <td>4.62</td>\n",
       "      <td>1.00</td>\n",
       "    </tr>\n",
       "  </tbody>\n",
       "</table>\n",
       "</div>"
      ],
      "text/plain": [
       "           Price  Square  Rooms\n",
       "Id                             \n",
       "11526 107,604.27    4.63   1.00\n",
       "10202 137,597.60    4.60   1.00\n",
       "9487  369,472.40    5.55   1.00\n",
       "3224  126,596.94    2.38   1.00\n",
       "4504  161,379.07    5.61   3.00\n",
       "14786 181,434.83    4.53   1.00\n",
       "15744 458,378.78    2.64   1.00\n",
       "6782  438,005.18    5.26   1.00\n",
       "7657  483,283.49    4.62   1.00"
      ]
     },
     "execution_count": 37,
     "metadata": {},
     "output_type": "execute_result"
    }
   ],
   "source": [
    "df[(df['Square']<10)][['Price', 'Square', 'Rooms']]"
   ]
  },
  {
   "cell_type": "markdown",
   "metadata": {},
   "source": [
    "###### Вывод: квартиры площадью меньше 10 с учетом цены за них - это явный выброс, исправим это."
   ]
  },
  {
   "cell_type": "code",
   "execution_count": 38,
   "metadata": {},
   "outputs": [],
   "source": [
    "df.loc[df['Square']<10 , 'Square'] = df['Square'].median()"
   ]
  },
  {
   "cell_type": "code",
   "execution_count": 39,
   "metadata": {},
   "outputs": [],
   "source": [
    "df_test.loc[df_test['Square']<10 , 'Square'] = df['Square'].median()"
   ]
  },
  {
   "cell_type": "code",
   "execution_count": 40,
   "metadata": {},
   "outputs": [
    {
     "data": {
      "image/png": "[encoded data removed]",
      "text/plain": [
       "<Figure size 720x360 with 1 Axes>"
      ]
     },
     "metadata": {},
     "output_type": "display_data"
    }
   ],
   "source": [
    "plt.figure(figsize = (10, 5))\n",
    "\n",
    "df['OneRoomSquare'].hist(bins=50)\n",
    "plt.ylabel('Count')\n",
    "plt.xlabel('OneRoomSquare')\n",
    "plt.title('Target distribution');"
   ]
  },
  {
   "cell_type": "markdown",
   "metadata": {},
   "source": [
    "###### Теперь - норм"
   ]
  },
  {
   "cell_type": "markdown",
   "metadata": {},
   "source": [
    "## Обработаем остальные \"подозрительные\" переменные"
   ]
  },
  {
   "cell_type": "code",
   "execution_count": 41,
   "metadata": {},
   "outputs": [],
   "source": [
    "df['Healthcare_1'].fillna(df['Healthcare_1'].median(), inplace=True)\n",
    "df_test['Healthcare_1'].fillna(df['Healthcare_1'].median(), inplace=True)"
   ]
  },
  {
   "cell_type": "code",
   "execution_count": 42,
   "metadata": {},
   "outputs": [],
   "source": [
    "df.loc[df['HouseFloor'] < df['Floor'], 'HouseFloor'] = df['Floor']\n",
    "df_test.loc[df_test['HouseFloor'] < df_test['Floor'], 'HouseFloor'] = df_test['Floor']"
   ]
  },
  {
   "cell_type": "code",
   "execution_count": 43,
   "metadata": {},
   "outputs": [
    {
     "data": {
      "text/plain": [
       "Id\n",
       "10814    20052011\n",
       "11607        4968\n",
       "Name: HouseYear, dtype: int64"
      ]
     },
     "execution_count": 43,
     "metadata": {},
     "output_type": "execute_result"
    }
   ],
   "source": [
    "df.loc[(df['HouseYear']<1800) | (df['HouseYear']> 2020), 'HouseYear']"
   ]
  },
  {
   "cell_type": "code",
   "execution_count": 44,
   "metadata": {},
   "outputs": [
    {
     "data": {
      "text/plain": [
       "Series([], Name: HouseYear, dtype: int64)"
      ]
     },
     "execution_count": 44,
     "metadata": {},
     "output_type": "execute_result"
    }
   ],
   "source": [
    "df_test.loc[(df_test['HouseYear']<1800) | (df_test['HouseYear']> 2020), 'HouseYear']"
   ]
  },
  {
   "cell_type": "code",
   "execution_count": 45,
   "metadata": {},
   "outputs": [],
   "source": [
    "df.loc[df['HouseYear'] > 2020, 'HouseYear'] = 2020"
   ]
  },
  {
   "cell_type": "markdown",
   "metadata": {},
   "source": [
    "## Введем новые переменные, характерные для недвижимости"
   ]
  },
  {
   "cell_type": "markdown",
   "metadata": {},
   "source": [
    "## Популярность района"
   ]
  },
  {
   "cell_type": "code",
   "execution_count": 46,
   "metadata": {},
   "outputs": [
    {
     "data": {
      "text/plain": [
       "27     851\n",
       "1      652\n",
       "23     565\n",
       "6      511\n",
       "9      294\n",
       "      ... \n",
       "199      1\n",
       "205      1\n",
       "174      1\n",
       "209      1\n",
       "207      1\n",
       "Name: DistrictId, Length: 205, dtype: int64"
      ]
     },
     "execution_count": 46,
     "metadata": {},
     "output_type": "execute_result"
    }
   ],
   "source": [
    "df['DistrictId'].value_counts()"
   ]
  },
  {
   "cell_type": "code",
   "execution_count": 47,
   "metadata": {},
   "outputs": [
    {
     "data": {
      "text/plain": [
       "27     391\n",
       "1      344\n",
       "23     264\n",
       "6      257\n",
       "9      132\n",
       "      ... \n",
       "212      1\n",
       "208      1\n",
       "204      1\n",
       "200      1\n",
       "193      1\n",
       "Name: DistrictId, Length: 201, dtype: int64"
      ]
     },
     "execution_count": 47,
     "metadata": {},
     "output_type": "execute_result"
    }
   ],
   "source": [
    "df_test['DistrictId'].value_counts()"
   ]
  },
  {
   "cell_type": "code",
   "execution_count": 48,
   "metadata": {},
   "outputs": [],
   "source": [
    "district_size = df['DistrictId'].value_counts().reset_index().rename(columns={'index':'DistrictId', 'DistrictId':'DistrictSize'})"
   ]
  },
  {
   "cell_type": "code",
   "execution_count": 49,
   "metadata": {},
   "outputs": [
    {
     "data": {
      "text/html": [
       "<div>\n",
       "<style scoped>\n",
       "    .dataframe tbody tr th:only-of-type {\n",
       "        vertical-align: middle;\n",
       "    }\n",
       "\n",
       "    .dataframe tbody tr th {\n",
       "        vertical-align: top;\n",
       "    }\n",
       "\n",
       "    .dataframe thead th {\n",
       "        text-align: right;\n",
       "    }\n",
       "</style>\n",
       "<table border=\"1\" class=\"dataframe\">\n",
       "  <thead>\n",
       "    <tr style=\"text-align: right;\">\n",
       "      <th></th>\n",
       "      <th>DistrictId</th>\n",
       "      <th>DistrictSize</th>\n",
       "    </tr>\n",
       "  </thead>\n",
       "  <tbody>\n",
       "    <tr>\n",
       "      <th>count</th>\n",
       "      <td>205.00</td>\n",
       "      <td>205.00</td>\n",
       "    </tr>\n",
       "    <tr>\n",
       "      <th>mean</th>\n",
       "      <td>102.13</td>\n",
       "      <td>48.78</td>\n",
       "    </tr>\n",
       "    <tr>\n",
       "      <th>std</th>\n",
       "      <td>59.55</td>\n",
       "      <td>97.40</td>\n",
       "    </tr>\n",
       "    <tr>\n",
       "      <th>min</th>\n",
       "      <td>0.00</td>\n",
       "      <td>1.00</td>\n",
       "    </tr>\n",
       "    <tr>\n",
       "      <th>25%</th>\n",
       "      <td>51.00</td>\n",
       "      <td>7.00</td>\n",
       "    </tr>\n",
       "    <tr>\n",
       "      <th>50%</th>\n",
       "      <td>102.00</td>\n",
       "      <td>18.00</td>\n",
       "    </tr>\n",
       "    <tr>\n",
       "      <th>75%</th>\n",
       "      <td>153.00</td>\n",
       "      <td>56.00</td>\n",
       "    </tr>\n",
       "    <tr>\n",
       "      <th>max</th>\n",
       "      <td>209.00</td>\n",
       "      <td>851.00</td>\n",
       "    </tr>\n",
       "  </tbody>\n",
       "</table>\n",
       "</div>"
      ],
      "text/plain": [
       "       DistrictId  DistrictSize\n",
       "count      205.00        205.00\n",
       "mean       102.13         48.78\n",
       "std         59.55         97.40\n",
       "min          0.00          1.00\n",
       "25%         51.00          7.00\n",
       "50%        102.00         18.00\n",
       "75%        153.00         56.00\n",
       "max        209.00        851.00"
      ]
     },
     "execution_count": 49,
     "metadata": {},
     "output_type": "execute_result"
    }
   ],
   "source": [
    "district_size.describe()"
   ]
  },
  {
   "cell_type": "markdown",
   "metadata": {},
   "source": [
    "###### отсекаем \"хвост\" по правилу Парето"
   ]
  },
  {
   "cell_type": "code",
   "execution_count": 50,
   "metadata": {},
   "outputs": [],
   "source": [
    "districts_popular = district_size.loc[district_size['DistrictSize'] > 60, 'DistrictId'].tolist()"
   ]
  },
  {
   "cell_type": "code",
   "execution_count": 51,
   "metadata": {},
   "outputs": [],
   "source": [
    "district_size.loc[~district_size['DistrictId'].isin(districts_popular), 'DistrictId'] = 999\n",
    "district_size = district_size.groupby('DistrictId')['DistrictSize'].agg(\n",
    "                            DistrictSize='median')\n",
    "district_size.reset_index(level='DistrictId', inplace=True)\n"
   ]
  },
  {
   "cell_type": "code",
   "execution_count": 52,
   "metadata": {},
   "outputs": [],
   "source": [
    "df.loc[~df['DistrictId'].isin(districts_popular), 'DistrictId'] = 999\n",
    "df_test.loc[~df_test['DistrictId'].isin(districts_popular), 'DistrictId'] = 999"
   ]
  },
  {
   "cell_type": "code",
   "execution_count": 53,
   "metadata": {},
   "outputs": [
    {
     "data": {
      "text/plain": [
       "999    2745\n",
       "27      851\n",
       "1       652\n",
       "23      565\n",
       "6       511\n",
       "9       294\n",
       "62      247\n",
       "30      228\n",
       "58      179\n",
       "53      174\n",
       "21      165\n",
       "52      143\n",
       "8       142\n",
       "11      129\n",
       "46      119\n",
       "61      118\n",
       "45      116\n",
       "74      114\n",
       "34      111\n",
       "57      107\n",
       "Name: DistrictId, dtype: int64"
      ]
     },
     "execution_count": 53,
     "metadata": {},
     "output_type": "execute_result"
    }
   ],
   "source": [
    "df['DistrictId'].value_counts().head(20)"
   ]
  },
  {
   "cell_type": "code",
   "execution_count": 54,
   "metadata": {},
   "outputs": [
    {
     "data": {
      "text/plain": [
       "999    1439\n",
       "27      391\n",
       "1       344\n",
       "23      264\n",
       "6       257\n",
       "9       132\n",
       "62      122\n",
       "30      115\n",
       "53       91\n",
       "58       91\n",
       "21       70\n",
       "52       67\n",
       "61       64\n",
       "8        64\n",
       "46       61\n",
       "34       61\n",
       "74       61\n",
       "29       60\n",
       "3        56\n",
       "57       54\n",
       "Name: DistrictId, dtype: int64"
      ]
     },
     "execution_count": 54,
     "metadata": {},
     "output_type": "execute_result"
    }
   ],
   "source": [
    "df_test['DistrictId'].value_counts().head(20)"
   ]
  },
  {
   "cell_type": "code",
   "execution_count": 55,
   "metadata": {},
   "outputs": [
    {
     "name": "stdout",
     "output_type": "stream",
     "text": [
      "<class 'pandas.core.frame.DataFrame'>\n",
      "Int64Index: 5000 entries, 725 to 12504\n",
      "Data columns (total 19 columns):\n",
      " #   Column         Non-Null Count  Dtype  \n",
      "---  ------         --------------  -----  \n",
      " 0   DistrictId     5000 non-null   int64  \n",
      " 1   Rooms          5000 non-null   float64\n",
      " 2   Square         5000 non-null   float64\n",
      " 3   LifeSquare     5000 non-null   float64\n",
      " 4   KitchenSquare  5000 non-null   float64\n",
      " 5   Floor          5000 non-null   int64  \n",
      " 6   HouseFloor     5000 non-null   float64\n",
      " 7   HouseYear      5000 non-null   int64  \n",
      " 8   Ecology_1      5000 non-null   float64\n",
      " 9   Ecology_2      5000 non-null   object \n",
      " 10  Ecology_3      5000 non-null   object \n",
      " 11  Social_1       5000 non-null   int64  \n",
      " 12  Social_2       5000 non-null   int64  \n",
      " 13  Social_3       5000 non-null   int64  \n",
      " 14  Healthcare_1   5000 non-null   float64\n",
      " 15  Helthcare_2    5000 non-null   int64  \n",
      " 16  Shops_1        5000 non-null   int64  \n",
      " 17  Shops_2        5000 non-null   object \n",
      " 18  OneRoomSquare  5000 non-null   float64\n",
      "dtypes: float64(8), int64(8), object(3)\n",
      "memory usage: 941.2+ KB\n"
     ]
    }
   ],
   "source": [
    "df_test.info()"
   ]
  },
  {
   "cell_type": "markdown",
   "metadata": {},
   "source": [
    "### добавляем признак в датафрейм"
   ]
  },
  {
   "cell_type": "code",
   "execution_count": 56,
   "metadata": {},
   "outputs": [],
   "source": [
    "df = df.merge(district_size, on='DistrictId', how='left').set_index(df.index)\n",
    "df_test = df_test.merge(district_size, on='DistrictId', how='left').set_index(df_test.index)"
   ]
  },
  {
   "cell_type": "code",
   "execution_count": 57,
   "metadata": {},
   "outputs": [],
   "source": [
    "df['PriceOneSquare'] = df['Price'] / df['Square']"
   ]
  },
  {
   "cell_type": "code",
   "execution_count": 58,
   "metadata": {},
   "outputs": [
    {
     "data": {
      "text/plain": [
       "count   10,000.00\n",
       "mean     3,887.71\n",
       "std      1,252.60\n",
       "min        638.98\n",
       "25%      2,910.41\n",
       "50%      3,905.43\n",
       "75%      4,689.95\n",
       "max     11,854.65\n",
       "Name: PriceOneSquare, dtype: float64"
      ]
     },
     "execution_count": 58,
     "metadata": {},
     "output_type": "execute_result"
    }
   ],
   "source": [
    "df['PriceOneSquare'].describe()"
   ]
  },
  {
   "cell_type": "code",
   "execution_count": 59,
   "metadata": {},
   "outputs": [
    {
     "data": {
      "image/png": "[encoded data removed]",
      "text/plain": [
       "<Figure size 720x360 with 1 Axes>"
      ]
     },
     "metadata": {},
     "output_type": "display_data"
    }
   ],
   "source": [
    "plt.figure(figsize = (10, 5))\n",
    "\n",
    "df['PriceOneSquare'].hist(bins=50)\n",
    "plt.ylabel('Count')\n",
    "plt.xlabel('PriceOneSquare')\n",
    "plt.title('Target distribution');"
   ]
  },
  {
   "cell_type": "code",
   "execution_count": 60,
   "metadata": {},
   "outputs": [
    {
     "data": {
      "text/html": [
       "<div>\n",
       "<style scoped>\n",
       "    .dataframe tbody tr th:only-of-type {\n",
       "        vertical-align: middle;\n",
       "    }\n",
       "\n",
       "    .dataframe tbody tr th {\n",
       "        vertical-align: top;\n",
       "    }\n",
       "\n",
       "    .dataframe thead th {\n",
       "        text-align: right;\n",
       "    }\n",
       "</style>\n",
       "<table border=\"1\" class=\"dataframe\">\n",
       "  <thead>\n",
       "    <tr style=\"text-align: right;\">\n",
       "      <th></th>\n",
       "      <th>DistrictId</th>\n",
       "      <th>PriceOneSquareByDistrict</th>\n",
       "    </tr>\n",
       "  </thead>\n",
       "  <tbody>\n",
       "    <tr>\n",
       "      <th>0</th>\n",
       "      <td>1</td>\n",
       "      <td>3,248.40</td>\n",
       "    </tr>\n",
       "    <tr>\n",
       "      <th>1</th>\n",
       "      <td>2</td>\n",
       "      <td>4,550.71</td>\n",
       "    </tr>\n",
       "    <tr>\n",
       "      <th>2</th>\n",
       "      <td>3</td>\n",
       "      <td>3,892.20</td>\n",
       "    </tr>\n",
       "    <tr>\n",
       "      <th>3</th>\n",
       "      <td>6</td>\n",
       "      <td>2,847.18</td>\n",
       "    </tr>\n",
       "    <tr>\n",
       "      <th>4</th>\n",
       "      <td>7</td>\n",
       "      <td>4,562.03</td>\n",
       "    </tr>\n",
       "    <tr>\n",
       "      <th>5</th>\n",
       "      <td>8</td>\n",
       "      <td>4,122.35</td>\n",
       "    </tr>\n",
       "    <tr>\n",
       "      <th>6</th>\n",
       "      <td>9</td>\n",
       "      <td>3,206.59</td>\n",
       "    </tr>\n",
       "    <tr>\n",
       "      <th>7</th>\n",
       "      <td>11</td>\n",
       "      <td>4,134.35</td>\n",
       "    </tr>\n",
       "    <tr>\n",
       "      <th>8</th>\n",
       "      <td>12</td>\n",
       "      <td>4,133.48</td>\n",
       "    </tr>\n",
       "    <tr>\n",
       "      <th>9</th>\n",
       "      <td>13</td>\n",
       "      <td>4,273.75</td>\n",
       "    </tr>\n",
       "    <tr>\n",
       "      <th>10</th>\n",
       "      <td>21</td>\n",
       "      <td>3,986.57</td>\n",
       "    </tr>\n",
       "    <tr>\n",
       "      <th>11</th>\n",
       "      <td>22</td>\n",
       "      <td>3,553.68</td>\n",
       "    </tr>\n",
       "    <tr>\n",
       "      <th>12</th>\n",
       "      <td>23</td>\n",
       "      <td>2,269.94</td>\n",
       "    </tr>\n",
       "    <tr>\n",
       "      <th>13</th>\n",
       "      <td>25</td>\n",
       "      <td>4,166.86</td>\n",
       "    </tr>\n",
       "    <tr>\n",
       "      <th>14</th>\n",
       "      <td>26</td>\n",
       "      <td>4,745.15</td>\n",
       "    </tr>\n",
       "    <tr>\n",
       "      <th>15</th>\n",
       "      <td>27</td>\n",
       "      <td>2,755.86</td>\n",
       "    </tr>\n",
       "    <tr>\n",
       "      <th>16</th>\n",
       "      <td>28</td>\n",
       "      <td>4,385.49</td>\n",
       "    </tr>\n",
       "    <tr>\n",
       "      <th>17</th>\n",
       "      <td>29</td>\n",
       "      <td>4,186.66</td>\n",
       "    </tr>\n",
       "    <tr>\n",
       "      <th>18</th>\n",
       "      <td>30</td>\n",
       "      <td>2,826.78</td>\n",
       "    </tr>\n",
       "    <tr>\n",
       "      <th>19</th>\n",
       "      <td>34</td>\n",
       "      <td>4,266.42</td>\n",
       "    </tr>\n",
       "  </tbody>\n",
       "</table>\n",
       "</div>"
      ],
      "text/plain": [
       "    DistrictId  PriceOneSquareByDistrict\n",
       "0            1                  3,248.40\n",
       "1            2                  4,550.71\n",
       "2            3                  3,892.20\n",
       "3            6                  2,847.18\n",
       "4            7                  4,562.03\n",
       "5            8                  4,122.35\n",
       "6            9                  3,206.59\n",
       "7           11                  4,134.35\n",
       "8           12                  4,133.48\n",
       "9           13                  4,273.75\n",
       "10          21                  3,986.57\n",
       "11          22                  3,553.68\n",
       "12          23                  2,269.94\n",
       "13          25                  4,166.86\n",
       "14          26                  4,745.15\n",
       "15          27                  2,755.86\n",
       "16          28                  4,385.49\n",
       "17          29                  4,186.66\n",
       "18          30                  2,826.78\n",
       "19          34                  4,266.42"
      ]
     },
     "execution_count": 60,
     "metadata": {},
     "output_type": "execute_result"
    }
   ],
   "source": [
    "price_by_district = df.groupby(['DistrictId'], as_index=False)\\\n",
    "                        .agg({'PriceOneSquare':'median'})\\\n",
    "                        .rename(columns={'PriceOneSquare':'PriceOneSquareByDistrict'})\n",
    "\n",
    "price_by_district.head(20)"
   ]
  },
  {
   "cell_type": "code",
   "execution_count": 61,
   "metadata": {},
   "outputs": [],
   "source": [
    "df = df.merge(price_by_district, on=['DistrictId'], how='left').set_index(df.index)\n",
    "df_test = df_test.merge(price_by_district, on=['DistrictId'], how='left').set_index(df_test.index)"
   ]
  },
  {
   "cell_type": "code",
   "execution_count": 62,
   "metadata": {},
   "outputs": [
    {
     "data": {
      "text/html": [
       "<div>\n",
       "<style scoped>\n",
       "    .dataframe tbody tr th:only-of-type {\n",
       "        vertical-align: middle;\n",
       "    }\n",
       "\n",
       "    .dataframe tbody tr th {\n",
       "        vertical-align: top;\n",
       "    }\n",
       "\n",
       "    .dataframe thead th {\n",
       "        text-align: right;\n",
       "    }\n",
       "</style>\n",
       "<table border=\"1\" class=\"dataframe\">\n",
       "  <thead>\n",
       "    <tr style=\"text-align: right;\">\n",
       "      <th></th>\n",
       "      <th>DistrictId</th>\n",
       "      <th>Rooms</th>\n",
       "      <th>Square</th>\n",
       "      <th>LifeSquare</th>\n",
       "      <th>KitchenSquare</th>\n",
       "      <th>Floor</th>\n",
       "      <th>HouseFloor</th>\n",
       "      <th>HouseYear</th>\n",
       "      <th>Ecology_1</th>\n",
       "      <th>Ecology_2</th>\n",
       "      <th>...</th>\n",
       "      <th>Social_3</th>\n",
       "      <th>Healthcare_1</th>\n",
       "      <th>Helthcare_2</th>\n",
       "      <th>Shops_1</th>\n",
       "      <th>Shops_2</th>\n",
       "      <th>Price</th>\n",
       "      <th>OneRoomSquare</th>\n",
       "      <th>DistrictSize</th>\n",
       "      <th>PriceOneSquare</th>\n",
       "      <th>PriceOneSquareByDistrict</th>\n",
       "    </tr>\n",
       "    <tr>\n",
       "      <th>Id</th>\n",
       "      <th></th>\n",
       "      <th></th>\n",
       "      <th></th>\n",
       "      <th></th>\n",
       "      <th></th>\n",
       "      <th></th>\n",
       "      <th></th>\n",
       "      <th></th>\n",
       "      <th></th>\n",
       "      <th></th>\n",
       "      <th></th>\n",
       "      <th></th>\n",
       "      <th></th>\n",
       "      <th></th>\n",
       "      <th></th>\n",
       "      <th></th>\n",
       "      <th></th>\n",
       "      <th></th>\n",
       "      <th></th>\n",
       "      <th></th>\n",
       "      <th></th>\n",
       "    </tr>\n",
       "  </thead>\n",
       "  <tbody>\n",
       "    <tr>\n",
       "      <th>14038</th>\n",
       "      <td>999</td>\n",
       "      <td>2.00</td>\n",
       "      <td>47.98</td>\n",
       "      <td>29.44</td>\n",
       "      <td>6.00</td>\n",
       "      <td>7</td>\n",
       "      <td>9.00</td>\n",
       "      <td>1969</td>\n",
       "      <td>0.09</td>\n",
       "      <td>B</td>\n",
       "      <td>...</td>\n",
       "      <td>5</td>\n",
       "      <td>900.00</td>\n",
       "      <td>0</td>\n",
       "      <td>11</td>\n",
       "      <td>B</td>\n",
       "      <td>184,966.93</td>\n",
       "      <td>23.00</td>\n",
       "      <td>11</td>\n",
       "      <td>3,854.96</td>\n",
       "      <td>4,722.33</td>\n",
       "    </tr>\n",
       "    <tr>\n",
       "      <th>15053</th>\n",
       "      <td>41</td>\n",
       "      <td>3.00</td>\n",
       "      <td>65.68</td>\n",
       "      <td>40.05</td>\n",
       "      <td>8.00</td>\n",
       "      <td>7</td>\n",
       "      <td>9.00</td>\n",
       "      <td>1978</td>\n",
       "      <td>0.00</td>\n",
       "      <td>B</td>\n",
       "      <td>...</td>\n",
       "      <td>1</td>\n",
       "      <td>240.00</td>\n",
       "      <td>1</td>\n",
       "      <td>16</td>\n",
       "      <td>B</td>\n",
       "      <td>300,009.45</td>\n",
       "      <td>21.00</td>\n",
       "      <td>87</td>\n",
       "      <td>4,567.49</td>\n",
       "      <td>4,437.30</td>\n",
       "    </tr>\n",
       "    <tr>\n",
       "      <th>4765</th>\n",
       "      <td>53</td>\n",
       "      <td>2.00</td>\n",
       "      <td>44.95</td>\n",
       "      <td>29.20</td>\n",
       "      <td>0.00</td>\n",
       "      <td>8</td>\n",
       "      <td>12.00</td>\n",
       "      <td>1968</td>\n",
       "      <td>0.05</td>\n",
       "      <td>B</td>\n",
       "      <td>...</td>\n",
       "      <td>0</td>\n",
       "      <td>229.00</td>\n",
       "      <td>1</td>\n",
       "      <td>3</td>\n",
       "      <td>B</td>\n",
       "      <td>220,925.91</td>\n",
       "      <td>22.00</td>\n",
       "      <td>174</td>\n",
       "      <td>4,915.15</td>\n",
       "      <td>4,830.23</td>\n",
       "    </tr>\n",
       "    <tr>\n",
       "      <th>5809</th>\n",
       "      <td>58</td>\n",
       "      <td>2.00</td>\n",
       "      <td>53.35</td>\n",
       "      <td>52.73</td>\n",
       "      <td>9.00</td>\n",
       "      <td>8</td>\n",
       "      <td>17.00</td>\n",
       "      <td>1977</td>\n",
       "      <td>0.44</td>\n",
       "      <td>B</td>\n",
       "      <td>...</td>\n",
       "      <td>3</td>\n",
       "      <td>1,084.00</td>\n",
       "      <td>0</td>\n",
       "      <td>5</td>\n",
       "      <td>B</td>\n",
       "      <td>175,616.23</td>\n",
       "      <td>26.00</td>\n",
       "      <td>179</td>\n",
       "      <td>3,291.59</td>\n",
       "      <td>2,949.98</td>\n",
       "    </tr>\n",
       "    <tr>\n",
       "      <th>10783</th>\n",
       "      <td>99</td>\n",
       "      <td>1.00</td>\n",
       "      <td>39.65</td>\n",
       "      <td>23.78</td>\n",
       "      <td>7.00</td>\n",
       "      <td>11</td>\n",
       "      <td>12.00</td>\n",
       "      <td>1976</td>\n",
       "      <td>0.01</td>\n",
       "      <td>B</td>\n",
       "      <td>...</td>\n",
       "      <td>1</td>\n",
       "      <td>2,078.00</td>\n",
       "      <td>2</td>\n",
       "      <td>4</td>\n",
       "      <td>B</td>\n",
       "      <td>150,226.53</td>\n",
       "      <td>39.00</td>\n",
       "      <td>97</td>\n",
       "      <td>3,788.89</td>\n",
       "      <td>3,992.03</td>\n",
       "    </tr>\n",
       "  </tbody>\n",
       "</table>\n",
       "<p>5 rows × 23 columns</p>\n",
       "</div>"
      ],
      "text/plain": [
       "       DistrictId  Rooms  Square  LifeSquare  KitchenSquare  Floor  \\\n",
       "Id                                                                   \n",
       "14038         999   2.00   47.98       29.44           6.00      7   \n",
       "15053          41   3.00   65.68       40.05           8.00      7   \n",
       "4765           53   2.00   44.95       29.20           0.00      8   \n",
       "5809           58   2.00   53.35       52.73           9.00      8   \n",
       "10783          99   1.00   39.65       23.78           7.00     11   \n",
       "\n",
       "       HouseFloor  HouseYear  Ecology_1 Ecology_2  ... Social_3  Healthcare_1  \\\n",
       "Id                                                 ...                          \n",
       "14038        9.00       1969       0.09         B  ...        5        900.00   \n",
       "15053        9.00       1978       0.00         B  ...        1        240.00   \n",
       "4765        12.00       1968       0.05         B  ...        0        229.00   \n",
       "5809        17.00       1977       0.44         B  ...        3      1,084.00   \n",
       "10783       12.00       1976       0.01         B  ...        1      2,078.00   \n",
       "\n",
       "       Helthcare_2  Shops_1  Shops_2      Price  OneRoomSquare DistrictSize  \\\n",
       "Id                                                                            \n",
       "14038            0       11        B 184,966.93          23.00           11   \n",
       "15053            1       16        B 300,009.45          21.00           87   \n",
       "4765             1        3        B 220,925.91          22.00          174   \n",
       "5809             0        5        B 175,616.23          26.00          179   \n",
       "10783            2        4        B 150,226.53          39.00           97   \n",
       "\n",
       "       PriceOneSquare  PriceOneSquareByDistrict  \n",
       "Id                                               \n",
       "14038        3,854.96                  4,722.33  \n",
       "15053        4,567.49                  4,437.30  \n",
       "4765         4,915.15                  4,830.23  \n",
       "5809         3,291.59                  2,949.98  \n",
       "10783        3,788.89                  3,992.03  \n",
       "\n",
       "[5 rows x 23 columns]"
      ]
     },
     "execution_count": 62,
     "metadata": {},
     "output_type": "execute_result"
    }
   ],
   "source": [
    "df.head()"
   ]
  },
  {
   "cell_type": "code",
   "execution_count": 63,
   "metadata": {},
   "outputs": [
    {
     "name": "stdout",
     "output_type": "stream",
     "text": [
      "<class 'pandas.core.frame.DataFrame'>\n",
      "Int64Index: 10000 entries, 14038 to 6306\n",
      "Data columns (total 23 columns):\n",
      " #   Column                    Non-Null Count  Dtype  \n",
      "---  ------                    --------------  -----  \n",
      " 0   DistrictId                10000 non-null  int64  \n",
      " 1   Rooms                     10000 non-null  float64\n",
      " 2   Square                    10000 non-null  float64\n",
      " 3   LifeSquare                10000 non-null  float64\n",
      " 4   KitchenSquare             10000 non-null  float64\n",
      " 5   Floor                     10000 non-null  int64  \n",
      " 6   HouseFloor                10000 non-null  float64\n",
      " 7   HouseYear                 10000 non-null  int64  \n",
      " 8   Ecology_1                 10000 non-null  float64\n",
      " 9   Ecology_2                 10000 non-null  object \n",
      " 10  Ecology_3                 10000 non-null  object \n",
      " 11  Social_1                  10000 non-null  int64  \n",
      " 12  Social_2                  10000 non-null  int64  \n",
      " 13  Social_3                  10000 non-null  int64  \n",
      " 14  Healthcare_1              10000 non-null  float64\n",
      " 15  Helthcare_2               10000 non-null  int64  \n",
      " 16  Shops_1                   10000 non-null  int64  \n",
      " 17  Shops_2                   10000 non-null  object \n",
      " 18  Price                     10000 non-null  float64\n",
      " 19  OneRoomSquare             10000 non-null  float64\n",
      " 20  DistrictSize              10000 non-null  int64  \n",
      " 21  PriceOneSquare            10000 non-null  float64\n",
      " 22  PriceOneSquareByDistrict  10000 non-null  float64\n",
      "dtypes: float64(11), int64(9), object(3)\n",
      "memory usage: 1.8+ MB\n"
     ]
    }
   ],
   "source": [
    "df.info()"
   ]
  },
  {
   "cell_type": "code",
   "execution_count": 64,
   "metadata": {},
   "outputs": [
    {
     "data": {
      "text/html": [
       "<div>\n",
       "<style scoped>\n",
       "    .dataframe tbody tr th:only-of-type {\n",
       "        vertical-align: middle;\n",
       "    }\n",
       "\n",
       "    .dataframe tbody tr th {\n",
       "        vertical-align: top;\n",
       "    }\n",
       "\n",
       "    .dataframe thead th {\n",
       "        text-align: right;\n",
       "    }\n",
       "</style>\n",
       "<table border=\"1\" class=\"dataframe\">\n",
       "  <thead>\n",
       "    <tr style=\"text-align: right;\">\n",
       "      <th></th>\n",
       "      <th>DistrictId</th>\n",
       "      <th>Rooms</th>\n",
       "      <th>Square</th>\n",
       "      <th>LifeSquare</th>\n",
       "      <th>KitchenSquare</th>\n",
       "      <th>Floor</th>\n",
       "      <th>HouseFloor</th>\n",
       "      <th>HouseYear</th>\n",
       "      <th>Ecology_1</th>\n",
       "      <th>Ecology_2</th>\n",
       "      <th>...</th>\n",
       "      <th>Social_1</th>\n",
       "      <th>Social_2</th>\n",
       "      <th>Social_3</th>\n",
       "      <th>Healthcare_1</th>\n",
       "      <th>Helthcare_2</th>\n",
       "      <th>Shops_1</th>\n",
       "      <th>Shops_2</th>\n",
       "      <th>OneRoomSquare</th>\n",
       "      <th>DistrictSize</th>\n",
       "      <th>PriceOneSquareByDistrict</th>\n",
       "    </tr>\n",
       "    <tr>\n",
       "      <th>Id</th>\n",
       "      <th></th>\n",
       "      <th></th>\n",
       "      <th></th>\n",
       "      <th></th>\n",
       "      <th></th>\n",
       "      <th></th>\n",
       "      <th></th>\n",
       "      <th></th>\n",
       "      <th></th>\n",
       "      <th></th>\n",
       "      <th></th>\n",
       "      <th></th>\n",
       "      <th></th>\n",
       "      <th></th>\n",
       "      <th></th>\n",
       "      <th></th>\n",
       "      <th></th>\n",
       "      <th></th>\n",
       "      <th></th>\n",
       "      <th></th>\n",
       "      <th></th>\n",
       "    </tr>\n",
       "  </thead>\n",
       "  <tbody>\n",
       "    <tr>\n",
       "      <th>725</th>\n",
       "      <td>58</td>\n",
       "      <td>2.00</td>\n",
       "      <td>49.88</td>\n",
       "      <td>33.43</td>\n",
       "      <td>6.00</td>\n",
       "      <td>6</td>\n",
       "      <td>14.00</td>\n",
       "      <td>1972</td>\n",
       "      <td>0.31</td>\n",
       "      <td>B</td>\n",
       "      <td>...</td>\n",
       "      <td>11</td>\n",
       "      <td>2748</td>\n",
       "      <td>1</td>\n",
       "      <td>900.00</td>\n",
       "      <td>0</td>\n",
       "      <td>0</td>\n",
       "      <td>B</td>\n",
       "      <td>24.00</td>\n",
       "      <td>179</td>\n",
       "      <td>2,949.98</td>\n",
       "    </tr>\n",
       "    <tr>\n",
       "      <th>15856</th>\n",
       "      <td>74</td>\n",
       "      <td>2.00</td>\n",
       "      <td>69.26</td>\n",
       "      <td>68.26</td>\n",
       "      <td>1.00</td>\n",
       "      <td>6</td>\n",
       "      <td>6.00</td>\n",
       "      <td>1977</td>\n",
       "      <td>0.08</td>\n",
       "      <td>B</td>\n",
       "      <td>...</td>\n",
       "      <td>6</td>\n",
       "      <td>1437</td>\n",
       "      <td>3</td>\n",
       "      <td>900.00</td>\n",
       "      <td>0</td>\n",
       "      <td>2</td>\n",
       "      <td>B</td>\n",
       "      <td>34.00</td>\n",
       "      <td>114</td>\n",
       "      <td>3,284.69</td>\n",
       "    </tr>\n",
       "    <tr>\n",
       "      <th>5480</th>\n",
       "      <td>999</td>\n",
       "      <td>1.00</td>\n",
       "      <td>15.95</td>\n",
       "      <td>13.60</td>\n",
       "      <td>12.00</td>\n",
       "      <td>2</td>\n",
       "      <td>5.00</td>\n",
       "      <td>1909</td>\n",
       "      <td>0.00</td>\n",
       "      <td>B</td>\n",
       "      <td>...</td>\n",
       "      <td>30</td>\n",
       "      <td>7538</td>\n",
       "      <td>87</td>\n",
       "      <td>4,702.00</td>\n",
       "      <td>5</td>\n",
       "      <td>5</td>\n",
       "      <td>B</td>\n",
       "      <td>13.00</td>\n",
       "      <td>11</td>\n",
       "      <td>4,722.33</td>\n",
       "    </tr>\n",
       "    <tr>\n",
       "      <th>15664</th>\n",
       "      <td>47</td>\n",
       "      <td>2.00</td>\n",
       "      <td>73.05</td>\n",
       "      <td>51.94</td>\n",
       "      <td>9.00</td>\n",
       "      <td>22</td>\n",
       "      <td>22.00</td>\n",
       "      <td>2007</td>\n",
       "      <td>0.10</td>\n",
       "      <td>B</td>\n",
       "      <td>...</td>\n",
       "      <td>23</td>\n",
       "      <td>4583</td>\n",
       "      <td>3</td>\n",
       "      <td>900.00</td>\n",
       "      <td>3</td>\n",
       "      <td>3</td>\n",
       "      <td>B</td>\n",
       "      <td>36.00</td>\n",
       "      <td>97</td>\n",
       "      <td>4,181.96</td>\n",
       "    </tr>\n",
       "    <tr>\n",
       "      <th>14275</th>\n",
       "      <td>27</td>\n",
       "      <td>1.00</td>\n",
       "      <td>47.53</td>\n",
       "      <td>43.39</td>\n",
       "      <td>1.00</td>\n",
       "      <td>17</td>\n",
       "      <td>17.00</td>\n",
       "      <td>2017</td>\n",
       "      <td>0.07</td>\n",
       "      <td>B</td>\n",
       "      <td>...</td>\n",
       "      <td>2</td>\n",
       "      <td>629</td>\n",
       "      <td>1</td>\n",
       "      <td>900.00</td>\n",
       "      <td>0</td>\n",
       "      <td>0</td>\n",
       "      <td>A</td>\n",
       "      <td>47.00</td>\n",
       "      <td>851</td>\n",
       "      <td>2,755.86</td>\n",
       "    </tr>\n",
       "  </tbody>\n",
       "</table>\n",
       "<p>5 rows × 21 columns</p>\n",
       "</div>"
      ],
      "text/plain": [
       "       DistrictId  Rooms  Square  LifeSquare  KitchenSquare  Floor  \\\n",
       "Id                                                                   \n",
       "725            58   2.00   49.88       33.43           6.00      6   \n",
       "15856          74   2.00   69.26       68.26           1.00      6   \n",
       "5480          999   1.00   15.95       13.60          12.00      2   \n",
       "15664          47   2.00   73.05       51.94           9.00     22   \n",
       "14275          27   1.00   47.53       43.39           1.00     17   \n",
       "\n",
       "       HouseFloor  HouseYear  Ecology_1 Ecology_2  ... Social_1  Social_2  \\\n",
       "Id                                                 ...                      \n",
       "725         14.00       1972       0.31         B  ...       11      2748   \n",
       "15856        6.00       1977       0.08         B  ...        6      1437   \n",
       "5480         5.00       1909       0.00         B  ...       30      7538   \n",
       "15664       22.00       2007       0.10         B  ...       23      4583   \n",
       "14275       17.00       2017       0.07         B  ...        2       629   \n",
       "\n",
       "       Social_3  Healthcare_1  Helthcare_2  Shops_1  Shops_2 OneRoomSquare  \\\n",
       "Id                                                                           \n",
       "725           1        900.00            0        0        B         24.00   \n",
       "15856         3        900.00            0        2        B         34.00   \n",
       "5480         87      4,702.00            5        5        B         13.00   \n",
       "15664         3        900.00            3        3        B         36.00   \n",
       "14275         1        900.00            0        0        A         47.00   \n",
       "\n",
       "       DistrictSize  PriceOneSquareByDistrict  \n",
       "Id                                             \n",
       "725             179                  2,949.98  \n",
       "15856           114                  3,284.69  \n",
       "5480             11                  4,722.33  \n",
       "15664            97                  4,181.96  \n",
       "14275           851                  2,755.86  \n",
       "\n",
       "[5 rows x 21 columns]"
      ]
     },
     "execution_count": 64,
     "metadata": {},
     "output_type": "execute_result"
    }
   ],
   "source": [
    "df_test.head()"
   ]
  },
  {
   "cell_type": "code",
   "execution_count": 65,
   "metadata": {},
   "outputs": [
    {
     "name": "stdout",
     "output_type": "stream",
     "text": [
      "<class 'pandas.core.frame.DataFrame'>\n",
      "Int64Index: 5000 entries, 725 to 12504\n",
      "Data columns (total 21 columns):\n",
      " #   Column                    Non-Null Count  Dtype  \n",
      "---  ------                    --------------  -----  \n",
      " 0   DistrictId                5000 non-null   int64  \n",
      " 1   Rooms                     5000 non-null   float64\n",
      " 2   Square                    5000 non-null   float64\n",
      " 3   LifeSquare                5000 non-null   float64\n",
      " 4   KitchenSquare             5000 non-null   float64\n",
      " 5   Floor                     5000 non-null   int64  \n",
      " 6   HouseFloor                5000 non-null   float64\n",
      " 7   HouseYear                 5000 non-null   int64  \n",
      " 8   Ecology_1                 5000 non-null   float64\n",
      " 9   Ecology_2                 5000 non-null   object \n",
      " 10  Ecology_3                 5000 non-null   object \n",
      " 11  Social_1                  5000 non-null   int64  \n",
      " 12  Social_2                  5000 non-null   int64  \n",
      " 13  Social_3                  5000 non-null   int64  \n",
      " 14  Healthcare_1              5000 non-null   float64\n",
      " 15  Helthcare_2               5000 non-null   int64  \n",
      " 16  Shops_1                   5000 non-null   int64  \n",
      " 17  Shops_2                   5000 non-null   object \n",
      " 18  OneRoomSquare             5000 non-null   float64\n",
      " 19  DistrictSize              5000 non-null   int64  \n",
      " 20  PriceOneSquareByDistrict  5000 non-null   float64\n",
      "dtypes: float64(9), int64(9), object(3)\n",
      "memory usage: 859.4+ KB\n"
     ]
    }
   ],
   "source": [
    "df_test.info()"
   ]
  },
  {
   "cell_type": "markdown",
   "metadata": {},
   "source": [
    "## Отбор признаков"
   ]
  },
  {
   "cell_type": "code",
   "execution_count": 66,
   "metadata": {},
   "outputs": [],
   "source": [
    "df.to_csv('First_prepared.csv')\n",
    "df_test.to_csv('test_prepared.csv')"
   ]
  },
  {
   "cell_type": "code",
   "execution_count": 67,
   "metadata": {},
   "outputs": [],
   "source": [
    "x_parametrs = [\n",
    "# 'DistrictId',\n",
    " 'Rooms',\n",
    " 'Square',\n",
    " 'LifeSquare',\n",
    " 'KitchenSquare',\n",
    " 'Floor',\n",
    " 'HouseFloor',\n",
    " 'HouseYear',\n",
    " 'Ecology_1',\n",
    " #'Ecology_2',\n",
    " #'Ecology_3',\n",
    " 'Social_1',\n",
    "# 'Social_2',\n",
    " 'Social_3',\n",
    " 'Healthcare_1',\n",
    "# 'Helthcare_2',\n",
    " 'Shops_1',\n",
    "# 'Shops_2',\n",
    "# 'OneRoomSquare',\n",
    " 'DistrictSize',\n",
    " 'PriceOneSquareByDistrict'\n",
    "]\n",
    "\n",
    "X = df[x_parametrs]\n",
    "X_test = df_test[x_parametrs]"
   ]
  },
  {
   "cell_type": "code",
   "execution_count": 68,
   "metadata": {},
   "outputs": [],
   "source": [
    "y = df['Price']"
   ]
  },
  {
   "cell_type": "markdown",
   "metadata": {},
   "source": [
    "### Построение модели Random Forest\n",
    "Перекрестная проверка модели"
   ]
  },
  {
   "cell_type": "code",
   "execution_count": 69,
   "metadata": {},
   "outputs": [],
   "source": [
    "forest = RandomForestRegressor(max_depth=18, \n",
    "                               max_features=5, \n",
    "                               n_estimators=400,\n",
    "                               random_state=42)"
   ]
  },
  {
   "cell_type": "code",
   "execution_count": 70,
   "metadata": {},
   "outputs": [
    {
     "name": "stdout",
     "output_type": "stream",
     "text": [
      "R2: 0.75423\n"
     ]
    }
   ],
   "source": [
    "kf = KFold(n_splits=10, random_state=42, shuffle=True)\n",
    "\n",
    "cv_score = cross_val_score(forest, X, y, scoring='r2', cv=kf)\n",
    "print('R2: {:.5f}'.format(cv_score.mean()))"
   ]
  },
  {
   "cell_type": "code",
   "execution_count": 71,
   "metadata": {},
   "outputs": [],
   "source": [
    "forest.fit(X, y)\n",
    "importances = forest.feature_importances_\n",
    "feat_importances = pd.Series(importances, index=x_parametrs)\n",
    "feat_importances.sort_values(ascending=True, inplace=True)"
   ]
  },
  {
   "cell_type": "code",
   "execution_count": 72,
   "metadata": {},
   "outputs": [
    {
     "data": {
      "image/png": "[encoded data removed]",
      "text/plain": [
       "<Figure size 720x432 with 1 Axes>"
      ]
     },
     "metadata": {},
     "output_type": "display_data"
    }
   ],
   "source": [
    "feat_importances.plot(kind='barh', figsize=(10, 6));"
   ]
  },
  {
   "cell_type": "markdown",
   "metadata": {},
   "source": [
    "## Прогноз"
   ]
  },
  {
   "cell_type": "code",
   "execution_count": 73,
   "metadata": {},
   "outputs": [],
   "source": [
    "y_predict = forest.predict(X_test)"
   ]
  },
  {
   "cell_type": "code",
   "execution_count": 74,
   "metadata": {},
   "outputs": [
    {
     "data": {
      "text/html": [
       "<div>\n",
       "<style scoped>\n",
       "    .dataframe tbody tr th:only-of-type {\n",
       "        vertical-align: middle;\n",
       "    }\n",
       "\n",
       "    .dataframe tbody tr th {\n",
       "        vertical-align: top;\n",
       "    }\n",
       "\n",
       "    .dataframe thead th {\n",
       "        text-align: right;\n",
       "    }\n",
       "</style>\n",
       "<table border=\"1\" class=\"dataframe\">\n",
       "  <thead>\n",
       "    <tr style=\"text-align: right;\">\n",
       "      <th></th>\n",
       "      <th>Id</th>\n",
       "      <th>Price</th>\n",
       "    </tr>\n",
       "  </thead>\n",
       "  <tbody>\n",
       "    <tr>\n",
       "      <th>0</th>\n",
       "      <td>725</td>\n",
       "      <td>158,630.13</td>\n",
       "    </tr>\n",
       "    <tr>\n",
       "      <th>1</th>\n",
       "      <td>15856</td>\n",
       "      <td>232,413.88</td>\n",
       "    </tr>\n",
       "    <tr>\n",
       "      <th>2</th>\n",
       "      <td>5480</td>\n",
       "      <td>220,477.47</td>\n",
       "    </tr>\n",
       "    <tr>\n",
       "      <th>3</th>\n",
       "      <td>15664</td>\n",
       "      <td>307,755.53</td>\n",
       "    </tr>\n",
       "    <tr>\n",
       "      <th>4</th>\n",
       "      <td>14275</td>\n",
       "      <td>143,851.16</td>\n",
       "    </tr>\n",
       "    <tr>\n",
       "      <th>5</th>\n",
       "      <td>7633</td>\n",
       "      <td>210,520.53</td>\n",
       "    </tr>\n",
       "    <tr>\n",
       "      <th>6</th>\n",
       "      <td>13329</td>\n",
       "      <td>167,540.45</td>\n",
       "    </tr>\n",
       "    <tr>\n",
       "      <th>7</th>\n",
       "      <td>5502</td>\n",
       "      <td>221,822.83</td>\n",
       "    </tr>\n",
       "    <tr>\n",
       "      <th>8</th>\n",
       "      <td>4220</td>\n",
       "      <td>294,259.21</td>\n",
       "    </tr>\n",
       "    <tr>\n",
       "      <th>9</th>\n",
       "      <td>11538</td>\n",
       "      <td>213,069.74</td>\n",
       "    </tr>\n",
       "    <tr>\n",
       "      <th>10</th>\n",
       "      <td>15975</td>\n",
       "      <td>270,452.15</td>\n",
       "    </tr>\n",
       "    <tr>\n",
       "      <th>11</th>\n",
       "      <td>3310</td>\n",
       "      <td>218,199.10</td>\n",
       "    </tr>\n",
       "    <tr>\n",
       "      <th>12</th>\n",
       "      <td>9286</td>\n",
       "      <td>146,756.16</td>\n",
       "    </tr>\n",
       "    <tr>\n",
       "      <th>13</th>\n",
       "      <td>11260</td>\n",
       "      <td>189,545.12</td>\n",
       "    </tr>\n",
       "    <tr>\n",
       "      <th>14</th>\n",
       "      <td>5214</td>\n",
       "      <td>103,770.57</td>\n",
       "    </tr>\n",
       "    <tr>\n",
       "      <th>15</th>\n",
       "      <td>11307</td>\n",
       "      <td>183,614.15</td>\n",
       "    </tr>\n",
       "    <tr>\n",
       "      <th>16</th>\n",
       "      <td>13543</td>\n",
       "      <td>367,483.83</td>\n",
       "    </tr>\n",
       "    <tr>\n",
       "      <th>17</th>\n",
       "      <td>615</td>\n",
       "      <td>188,368.96</td>\n",
       "    </tr>\n",
       "    <tr>\n",
       "      <th>18</th>\n",
       "      <td>3495</td>\n",
       "      <td>221,733.50</td>\n",
       "    </tr>\n",
       "    <tr>\n",
       "      <th>19</th>\n",
       "      <td>2321</td>\n",
       "      <td>235,072.19</td>\n",
       "    </tr>\n",
       "  </tbody>\n",
       "</table>\n",
       "</div>"
      ],
      "text/plain": [
       "       Id      Price\n",
       "0     725 158,630.13\n",
       "1   15856 232,413.88\n",
       "2    5480 220,477.47\n",
       "3   15664 307,755.53\n",
       "4   14275 143,851.16\n",
       "5    7633 210,520.53\n",
       "6   13329 167,540.45\n",
       "7    5502 221,822.83\n",
       "8    4220 294,259.21\n",
       "9   11538 213,069.74\n",
       "10  15975 270,452.15\n",
       "11   3310 218,199.10\n",
       "12   9286 146,756.16\n",
       "13  11260 189,545.12\n",
       "14   5214 103,770.57\n",
       "15  11307 183,614.15\n",
       "16  13543 367,483.83\n",
       "17    615 188,368.96\n",
       "18   3495 221,733.50\n",
       "19   2321 235,072.19"
      ]
     },
     "execution_count": 74,
     "metadata": {},
     "output_type": "execute_result"
    }
   ],
   "source": [
    "preds = pd.DataFrame()\n",
    "preds['Id'] = X_test.index\n",
    "preds['Price'] = y_predict\n",
    "preds.head(20)"
   ]
  },
  {
   "cell_type": "code",
   "execution_count": 75,
   "metadata": {},
   "outputs": [],
   "source": [
    "preds.to_csv('AKharkovtsov_predictions.csv', index=False)"
   ]
  }
 ],
 "metadata": {
  "kernelspec": {
   "display_name": "Python 3",
   "language": "python",
   "name": "python3"
  },
  "language_info": {
   "codemirror_mode": {
    "name": "ipython",
    "version": 3
   },
   "file_extension": ".py",
   "mimetype": "text/x-python",
   "name": "python",
   "nbconvert_exporter": "python",
   "pygments_lexer": "ipython3",
   "version": "3.8.3"
  }
 },
 "nbformat": 4,
 "nbformat_minor": 4
}
